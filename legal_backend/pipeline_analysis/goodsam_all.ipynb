{
 "cells": [
  {
   "cell_type": "code",
   "execution_count": 1,
   "metadata": {},
   "outputs": [],
   "source": [
    "from legal_backend.r_to_py.r_to_py import init_R\n",
    "from legal_backend.bartCause.bart_cause import BARTCause\n",
    "from legal_backend.pip_utils import prepare_train_data, rmse, nrmse, r_square, coverage_rate, kfold_indices, prepare_permute_data, statistic\n",
    "\n",
    "import pandas as pd\n",
    "import numpy as np\n",
    "from sklearn import preprocessing\n",
    "\n",
    "from scipy.stats import permutation_test\n",
    "from matplotlib import pyplot as plt\n",
    "from scipy import stats\n",
    "from collections import Counter\n",
    "\n"
   ]
  },
  {
   "cell_type": "code",
   "execution_count": 2,
   "metadata": {},
   "outputs": [],
   "source": [
    "init_R()"
   ]
  },
  {
   "cell_type": "markdown",
   "metadata": {},
   "source": [
    "### Infer Law Effect"
   ]
  },
  {
   "cell_type": "code",
   "execution_count": 3,
   "metadata": {},
   "outputs": [],
   "source": [
    "#load csv files and load possible laws\n",
    "df = pd.read_csv('data/goodsam_all.csv')"
   ]
  },
  {
   "cell_type": "code",
   "execution_count": 4,
   "metadata": {},
   "outputs": [
    {
     "data": {
      "text/plain": [
       "Index(['Percent-of-Population-Under-15-(2013-2017)',\n",
       "       'Percent-of-Population-Aged-15-to-64-(2013-2017)',\n",
       "       'Percent-of-Population-65+-(2013-2017)',\n",
       "       'Percent-of-Population-White-(non-Hispanic)-(2013-2017)',\n",
       "       'Percent-of-Populaiton-Black-(non-Hispanic)-(2013-2017)',\n",
       "       'Percent-of-Population-Hispanic-or-Latino-(2013-2017)',\n",
       "       'Percent-of-Population-Asian-(non-Hispanic)-(2013-2017)',\n",
       "       'Percent-of-Population-Native-American/Alaska-Native-(non-Hispanic)-(2013-2017)',\n",
       "       'Percent-of-Population-Native-Hawaiian/Pacific-Islander-(2013-2017)',\n",
       "       'Percent-of-Population-Aged-25+-who-Have-at-Least-a-High-School-Diploma-(2013-2017)',\n",
       "       'Percent-of-Population-Aged-25+-who-Have-a-Bachelor's-Degree-or-More-(2013-2017)',\n",
       "       'Poverty-Rate-(2013-2017)', 'Median-Household-Income-(2013-2017)',\n",
       "       'Unemployment-Rate-(2013-2017)',\n",
       "       'Percent-of-Residents-with-a-Disability-(Aged-18-64)-(2013-2017)',\n",
       "       'Percent-of-Popualtion-Employed-in-Mining-and-Natural-Resources-(2013-2017)',\n",
       "       'Percent-of-Popualtion-Employed-in-Construction-(2013-2017)',\n",
       "       'Percent-of-Popualtion-Employed-in-Trade-Transportation-and-Utilities-(2013-2017)',\n",
       "       'Number-of-Substance-Use-Facilities-(As-of-March-2023)',\n",
       "       'Number-of-Mental-Health-Facilities-(As-of-March-2023)', 'MDsPerCapita',\n",
       "       'Urbanicity', 'Social-Resilience-Score', 'Economic-Risk-Score',\n",
       "       'Social-Risk-Score', 'Economic-Resilience-Score',\n",
       "       'Prosperity-Index-Score', 'delta_death_rate', 'goodsam-law',\n",
       "       'goodsam-cs_Arrest', 'goodsam-cs_Charge', 'goodsam-cs_Prosecution',\n",
       "       'goodsam-cs_Law provides an affirmative defense', 'goodsam-cs_None',\n",
       "       'goodsam-paraphernalia_Arrest', 'goodsam-paraphernalia_Charge',\n",
       "       'goodsam-paraphernalia_Prosecution',\n",
       "       'goodsam-paraphernalia_Law provides an affirmative defense',\n",
       "       'goodsam-paraphernalia_None', 'goodsam-paroleyn',\n",
       "       'goodsam-parole_Protection from arrest',\n",
       "       'goodsam-parole_Protection from charge',\n",
       "       'goodsam-parole_Protection from prosecution',\n",
       "       'goodsam-parole_Protection from revocation of probation and/or parole',\n",
       "       'goodsam-parole_General protection from sanctions for violation of probation and/or parole',\n",
       "       'goodsam-mitigation', 'goodsam-mit-type_Controlled substances offenses',\n",
       "       'goodsam-mit-type_Alcohol-related offenses',\n",
       "       'goodsam-mit-type_Other offenses beyond controlled substances and alcohol-related violations'],\n",
       "      dtype='object')"
      ]
     },
     "execution_count": 4,
     "metadata": {},
     "output_type": "execute_result"
    }
   ],
   "source": [
    "df.rename(columns={'death-rate-2013-2016':'delta_death_rate'}, inplace=True)\n",
    "df['Urbanicity'] = df['Urbanicity'].map({'Urban':1, 'Rural':0})\n",
    "df.columns"
   ]
  },
  {
   "cell_type": "code",
   "execution_count": 30,
   "metadata": {},
   "outputs": [
    {
     "data": {
      "text/plain": [
       "17.739878865157795"
      ]
     },
     "execution_count": 30,
     "metadata": {},
     "output_type": "execute_result"
    }
   ],
   "source": [
    "from scipy.stats import percentileofscore\n",
    "percentileofscore(df['Percent-of-Populaiton-Black-(non-Hispanic)-(2013-2017)'], 0.004)"
   ]
  },
  {
   "cell_type": "code",
   "execution_count": 27,
   "metadata": {},
   "outputs": [
    {
     "data": {
      "text/plain": [
       "0.0086"
      ]
     },
     "execution_count": 27,
     "metadata": {},
     "output_type": "execute_result"
    }
   ],
   "source": [
    "np.percentile(df['Percent-of-Popualtion-Employed-in-Mining-and-Natural-Resources-(2013-2017)'], 32)"
   ]
  },
  {
   "cell_type": "markdown",
   "metadata": {},
   "source": [
    "###  Patterns"
   ]
  },
  {
   "cell_type": "code",
   "execution_count": 5,
   "metadata": {},
   "outputs": [
    {
     "data": {
      "text/plain": [
       "\"df_sub['MDsPerCapita']>9.17\""
      ]
     },
     "execution_count": 5,
     "metadata": {},
     "output_type": "execute_result"
    }
   ],
   "source": [
    "df_sub = df.copy(deep=True)\n",
    "\"df_sub['Urbanicity']==1\"\n",
    "\"df_sub['Percent-of-Population-Under-15-(2013-2017)']>0.216\"\n",
    "\"df_sub['Percent-of-Popualtion-Employed-in-Mining-and-Natural-Resources-(2013-2017)']<0.009\"\n",
    "# df_sub = df_sub[df_sub['Percent-of-Population-Aged-25+-who-Have-a-Bachelor\\'s-Degree-or-More-(2013-2017)']>0.221].reset_index(drop=True)\n",
    "# df_sub = df_sub[df_sub['Percent-of-Residents-with-a-Disability-(Aged-18-64)-(2013-2017)']<0.116].reset_index(drop=True)\n",
    "\"df_sub['Percent-of-Population-Aged-15-to-64-(2013-2017)']>0.631\"\n",
    "\"df_sub['Percent-of-Population-Native-Hawaiian/Pacific-Islander-(2013-2017)']<0.001\"\n",
    "\"df_sub['Number-of-Mental-Health-Facilities-(As-of-March-2023)']>2\"\n",
    "\"df_sub['Economic-Risk-Score']==2\"\n",
    "\"df_sub['Percent-of-Population-Native-American/Alaska-Native-(non-Hispanic)-(2013-2017)']<0.002\"\n",
    "\"df_sub['Percent-of-Populaiton-Black-(non-Hispanic)-(2013-2017)']<0.004\"\n",
    "\"df_sub['Number-of-Substance-Use-Facilities-(As-of-March-2023)']>2\"\n",
    "\"df_sub['MDsPerCapita']>9.17\""
   ]
  },
  {
   "cell_type": "code",
   "execution_count": 6,
   "metadata": {},
   "outputs": [],
   "source": [
    "conds = []\n",
    "conds.append(\"df_sub['Percent-of-Popualtion-Employed-in-Mining-and-Natural-Resources-(2013-2017)']<0.009\")\n",
    "conds.append(\"df_sub['Percent-of-Populaiton-Black-(non-Hispanic)-(2013-2017)']>0.004\")\n",
    "conds.append(\"df_sub['Percent-of-Populaiton-Black-(non-Hispanic)-(2013-2017)']<0.307\")\n",
    "for cond in conds:\n",
    "    df_sub = df_sub.loc[eval(cond)].reset_index(drop=True)\n",
    "law = 'goodsam-cs_Prosecution'"
   ]
  },
  {
   "cell_type": "code",
   "execution_count": 7,
   "metadata": {},
   "outputs": [
    {
     "name": "stdout",
     "output_type": "stream",
     "text": [
      "goodsam-cs_Prosecution\n",
      "843\n"
     ]
    },
    {
     "data": {
      "text/html": [
       "<div>\n",
       "<style scoped>\n",
       "    .dataframe tbody tr th:only-of-type {\n",
       "        vertical-align: middle;\n",
       "    }\n",
       "\n",
       "    .dataframe tbody tr th {\n",
       "        vertical-align: top;\n",
       "    }\n",
       "\n",
       "    .dataframe thead th {\n",
       "        text-align: right;\n",
       "    }\n",
       "</style>\n",
       "<table border=\"1\" class=\"dataframe\">\n",
       "  <thead>\n",
       "    <tr style=\"text-align: right;\">\n",
       "      <th></th>\n",
       "      <th>Percent-of-Population-Under-15-(2013-2017)</th>\n",
       "      <th>Percent-of-Population-Aged-15-to-64-(2013-2017)</th>\n",
       "      <th>Percent-of-Population-65+-(2013-2017)</th>\n",
       "      <th>Percent-of-Population-White-(non-Hispanic)-(2013-2017)</th>\n",
       "      <th>Percent-of-Populaiton-Black-(non-Hispanic)-(2013-2017)</th>\n",
       "      <th>Percent-of-Population-Hispanic-or-Latino-(2013-2017)</th>\n",
       "      <th>Percent-of-Population-Asian-(non-Hispanic)-(2013-2017)</th>\n",
       "      <th>Percent-of-Population-Native-American/Alaska-Native-(non-Hispanic)-(2013-2017)</th>\n",
       "      <th>Percent-of-Population-Native-Hawaiian/Pacific-Islander-(2013-2017)</th>\n",
       "      <th>Percent-of-Population-Aged-25+-who-Have-at-Least-a-High-School-Diploma-(2013-2017)</th>\n",
       "      <th>...</th>\n",
       "      <th>goodsam-paroleyn</th>\n",
       "      <th>goodsam-parole_Protection from arrest</th>\n",
       "      <th>goodsam-parole_Protection from charge</th>\n",
       "      <th>goodsam-parole_Protection from prosecution</th>\n",
       "      <th>goodsam-parole_Protection from revocation of probation and/or parole</th>\n",
       "      <th>goodsam-parole_General protection from sanctions for violation of probation and/or parole</th>\n",
       "      <th>goodsam-mitigation</th>\n",
       "      <th>goodsam-mit-type_Controlled substances offenses</th>\n",
       "      <th>goodsam-mit-type_Alcohol-related offenses</th>\n",
       "      <th>goodsam-mit-type_Other offenses beyond controlled substances and alcohol-related violations</th>\n",
       "    </tr>\n",
       "  </thead>\n",
       "  <tbody>\n",
       "    <tr>\n",
       "      <th>0</th>\n",
       "      <td>0.1942</td>\n",
       "      <td>0.6339</td>\n",
       "      <td>0.1719</td>\n",
       "      <td>0.8766</td>\n",
       "      <td>0.0156</td>\n",
       "      <td>0.0873</td>\n",
       "      <td>0.0016</td>\n",
       "      <td>0.0030</td>\n",
       "      <td>0.0000</td>\n",
       "      <td>0.8003</td>\n",
       "      <td>...</td>\n",
       "      <td>1.0</td>\n",
       "      <td>0.0</td>\n",
       "      <td>0.0</td>\n",
       "      <td>0.0</td>\n",
       "      <td>0.0</td>\n",
       "      <td>0.0</td>\n",
       "      <td>0.0</td>\n",
       "      <td>0.0</td>\n",
       "      <td>0.0</td>\n",
       "      <td>0.0</td>\n",
       "    </tr>\n",
       "    <tr>\n",
       "      <th>1</th>\n",
       "      <td>0.1813</td>\n",
       "      <td>0.6594</td>\n",
       "      <td>0.1593</td>\n",
       "      <td>0.7300</td>\n",
       "      <td>0.2033</td>\n",
       "      <td>0.0344</td>\n",
       "      <td>0.0093</td>\n",
       "      <td>0.0020</td>\n",
       "      <td>0.0001</td>\n",
       "      <td>0.8234</td>\n",
       "      <td>...</td>\n",
       "      <td>1.0</td>\n",
       "      <td>0.0</td>\n",
       "      <td>0.0</td>\n",
       "      <td>0.0</td>\n",
       "      <td>0.0</td>\n",
       "      <td>0.0</td>\n",
       "      <td>0.0</td>\n",
       "      <td>0.0</td>\n",
       "      <td>0.0</td>\n",
       "      <td>0.0</td>\n",
       "    </tr>\n",
       "    <tr>\n",
       "      <th>2</th>\n",
       "      <td>0.1769</td>\n",
       "      <td>0.6386</td>\n",
       "      <td>0.1845</td>\n",
       "      <td>0.7885</td>\n",
       "      <td>0.1565</td>\n",
       "      <td>0.0240</td>\n",
       "      <td>0.0042</td>\n",
       "      <td>0.0060</td>\n",
       "      <td>0.0006</td>\n",
       "      <td>0.8342</td>\n",
       "      <td>...</td>\n",
       "      <td>1.0</td>\n",
       "      <td>0.0</td>\n",
       "      <td>0.0</td>\n",
       "      <td>0.0</td>\n",
       "      <td>0.0</td>\n",
       "      <td>0.0</td>\n",
       "      <td>0.0</td>\n",
       "      <td>0.0</td>\n",
       "      <td>0.0</td>\n",
       "      <td>0.0</td>\n",
       "    </tr>\n",
       "    <tr>\n",
       "      <th>3</th>\n",
       "      <td>0.1958</td>\n",
       "      <td>0.6499</td>\n",
       "      <td>0.1543</td>\n",
       "      <td>0.7019</td>\n",
       "      <td>0.1940</td>\n",
       "      <td>0.0589</td>\n",
       "      <td>0.0102</td>\n",
       "      <td>0.0058</td>\n",
       "      <td>0.0002</td>\n",
       "      <td>0.8583</td>\n",
       "      <td>...</td>\n",
       "      <td>1.0</td>\n",
       "      <td>0.0</td>\n",
       "      <td>0.0</td>\n",
       "      <td>0.0</td>\n",
       "      <td>0.0</td>\n",
       "      <td>0.0</td>\n",
       "      <td>0.0</td>\n",
       "      <td>0.0</td>\n",
       "      <td>0.0</td>\n",
       "      <td>0.0</td>\n",
       "    </tr>\n",
       "    <tr>\n",
       "      <th>4</th>\n",
       "      <td>0.1791</td>\n",
       "      <td>0.6473</td>\n",
       "      <td>0.1736</td>\n",
       "      <td>0.7843</td>\n",
       "      <td>0.1528</td>\n",
       "      <td>0.0363</td>\n",
       "      <td>0.0068</td>\n",
       "      <td>0.0040</td>\n",
       "      <td>0.0006</td>\n",
       "      <td>0.8245</td>\n",
       "      <td>...</td>\n",
       "      <td>1.0</td>\n",
       "      <td>0.0</td>\n",
       "      <td>0.0</td>\n",
       "      <td>0.0</td>\n",
       "      <td>0.0</td>\n",
       "      <td>0.0</td>\n",
       "      <td>0.0</td>\n",
       "      <td>0.0</td>\n",
       "      <td>0.0</td>\n",
       "      <td>0.0</td>\n",
       "    </tr>\n",
       "  </tbody>\n",
       "</table>\n",
       "<p>5 rows × 49 columns</p>\n",
       "</div>"
      ],
      "text/plain": [
       "   Percent-of-Population-Under-15-(2013-2017)  \\\n",
       "0                                      0.1942   \n",
       "1                                      0.1813   \n",
       "2                                      0.1769   \n",
       "3                                      0.1958   \n",
       "4                                      0.1791   \n",
       "\n",
       "   Percent-of-Population-Aged-15-to-64-(2013-2017)  \\\n",
       "0                                           0.6339   \n",
       "1                                           0.6594   \n",
       "2                                           0.6386   \n",
       "3                                           0.6499   \n",
       "4                                           0.6473   \n",
       "\n",
       "   Percent-of-Population-65+-(2013-2017)  \\\n",
       "0                                 0.1719   \n",
       "1                                 0.1593   \n",
       "2                                 0.1845   \n",
       "3                                 0.1543   \n",
       "4                                 0.1736   \n",
       "\n",
       "   Percent-of-Population-White-(non-Hispanic)-(2013-2017)  \\\n",
       "0                                             0.8766        \n",
       "1                                             0.7300        \n",
       "2                                             0.7885        \n",
       "3                                             0.7019        \n",
       "4                                             0.7843        \n",
       "\n",
       "   Percent-of-Populaiton-Black-(non-Hispanic)-(2013-2017)  \\\n",
       "0                                             0.0156        \n",
       "1                                             0.2033        \n",
       "2                                             0.1565        \n",
       "3                                             0.1940        \n",
       "4                                             0.1528        \n",
       "\n",
       "   Percent-of-Population-Hispanic-or-Latino-(2013-2017)  \\\n",
       "0                                             0.0873      \n",
       "1                                             0.0344      \n",
       "2                                             0.0240      \n",
       "3                                             0.0589      \n",
       "4                                             0.0363      \n",
       "\n",
       "   Percent-of-Population-Asian-(non-Hispanic)-(2013-2017)  \\\n",
       "0                                             0.0016        \n",
       "1                                             0.0093        \n",
       "2                                             0.0042        \n",
       "3                                             0.0102        \n",
       "4                                             0.0068        \n",
       "\n",
       "   Percent-of-Population-Native-American/Alaska-Native-(non-Hispanic)-(2013-2017)  \\\n",
       "0                                             0.0030                                \n",
       "1                                             0.0020                                \n",
       "2                                             0.0060                                \n",
       "3                                             0.0058                                \n",
       "4                                             0.0040                                \n",
       "\n",
       "   Percent-of-Population-Native-Hawaiian/Pacific-Islander-(2013-2017)  \\\n",
       "0                                             0.0000                    \n",
       "1                                             0.0001                    \n",
       "2                                             0.0006                    \n",
       "3                                             0.0002                    \n",
       "4                                             0.0006                    \n",
       "\n",
       "   Percent-of-Population-Aged-25+-who-Have-at-Least-a-High-School-Diploma-(2013-2017)  \\\n",
       "0                                             0.8003                                    \n",
       "1                                             0.8234                                    \n",
       "2                                             0.8342                                    \n",
       "3                                             0.8583                                    \n",
       "4                                             0.8245                                    \n",
       "\n",
       "   ...  goodsam-paroleyn  goodsam-parole_Protection from arrest  \\\n",
       "0  ...               1.0                                    0.0   \n",
       "1  ...               1.0                                    0.0   \n",
       "2  ...               1.0                                    0.0   \n",
       "3  ...               1.0                                    0.0   \n",
       "4  ...               1.0                                    0.0   \n",
       "\n",
       "   goodsam-parole_Protection from charge  \\\n",
       "0                                    0.0   \n",
       "1                                    0.0   \n",
       "2                                    0.0   \n",
       "3                                    0.0   \n",
       "4                                    0.0   \n",
       "\n",
       "   goodsam-parole_Protection from prosecution  \\\n",
       "0                                         0.0   \n",
       "1                                         0.0   \n",
       "2                                         0.0   \n",
       "3                                         0.0   \n",
       "4                                         0.0   \n",
       "\n",
       "   goodsam-parole_Protection from revocation of probation and/or parole  \\\n",
       "0                                                0.0                      \n",
       "1                                                0.0                      \n",
       "2                                                0.0                      \n",
       "3                                                0.0                      \n",
       "4                                                0.0                      \n",
       "\n",
       "   goodsam-parole_General protection from sanctions for violation of probation and/or parole  \\\n",
       "0                                                0.0                                           \n",
       "1                                                0.0                                           \n",
       "2                                                0.0                                           \n",
       "3                                                0.0                                           \n",
       "4                                                0.0                                           \n",
       "\n",
       "   goodsam-mitigation  goodsam-mit-type_Controlled substances offenses  \\\n",
       "0                 0.0                                              0.0   \n",
       "1                 0.0                                              0.0   \n",
       "2                 0.0                                              0.0   \n",
       "3                 0.0                                              0.0   \n",
       "4                 0.0                                              0.0   \n",
       "\n",
       "   goodsam-mit-type_Alcohol-related offenses  \\\n",
       "0                                        0.0   \n",
       "1                                        0.0   \n",
       "2                                        0.0   \n",
       "3                                        0.0   \n",
       "4                                        0.0   \n",
       "\n",
       "   goodsam-mit-type_Other offenses beyond controlled substances and alcohol-related violations  \n",
       "0                                                0.0                                            \n",
       "1                                                0.0                                            \n",
       "2                                                0.0                                            \n",
       "3                                                0.0                                            \n",
       "4                                                0.0                                            \n",
       "\n",
       "[5 rows x 49 columns]"
      ]
     },
     "execution_count": 7,
     "metadata": {},
     "output_type": "execute_result"
    }
   ],
   "source": [
    "print(law)\n",
    "print(df_sub.shape[0])\n",
    "df_sub.head()"
   ]
  },
  {
   "cell_type": "code",
   "execution_count": 8,
   "metadata": {},
   "outputs": [
    {
     "name": "stdout",
     "output_type": "stream",
     "text": [
      "Counter({1.0: 599, 0.0: 244})\n"
     ]
    }
   ],
   "source": [
    "print(Counter(df_sub[law]))\n",
    "num_instances = list(Counter(df_sub[law]).values())\n",
    "imbalance_ratio = min(num_instances) / max(num_instances)\n",
    "print(\"Imbalanced Data Detected! Imbalnce Ratio:\", imbalance_ratio) if (imbalance_ratio < 0.1) else None"
   ]
  },
  {
   "cell_type": "code",
   "execution_count": 9,
   "metadata": {},
   "outputs": [],
   "source": [
    "X_train_scaled, y_train, Z_train, X_test_scaled, y_test, Z_test = prepare_train_data(df_sub, law)"
   ]
  },
  {
   "cell_type": "code",
   "execution_count": 10,
   "metadata": {},
   "outputs": [],
   "source": [
    "bart_eval = BARTCause()\n",
    "bart_eval.fit(X_train_scaled, y_train, Z_train, n_samples=1000,  n_burn=200,  n_chains=5)"
   ]
  },
  {
   "cell_type": "code",
   "execution_count": 11,
   "metadata": {},
   "outputs": [],
   "source": [
    "# evaluate BART fit on response surface\n",
    "newData = np.concatenate((X_test_scaled, Z_test), axis=1)\n",
    "\n",
    "y_test_predicted_, y_test_predicted_lb, y_test_predicted_ub = bart_eval.predict(newData, infer_type=\"mu\")\n",
    "\n",
    "# y_test_predicted_ = bart_eval.predict(newData, infer_type=\"mu\")\n",
    "y_test_predicted = y_test_predicted_[:,np.newaxis]\n",
    "y_test_predicted_lb = y_test_predicted_lb[:,np.newaxis]\n",
    "y_test_predicted_ub = y_test_predicted_ub[:,np.newaxis]"
   ]
  },
  {
   "cell_type": "code",
   "execution_count": 12,
   "metadata": {},
   "outputs": [
    {
     "name": "stdout",
     "output_type": "stream",
     "text": [
      "quantile(0.05-0.95): [ 11.781299542827616 , 127.42743961736396 ]\n",
      "BART RMS: 35.56062420117145 \n",
      " Baseline RMS: 43.17957642401473\n",
      "r square: 0.32176219186890054 \n",
      " nrmse: 0.10287347880807751\n",
      "coverage rate: 0.6449704142011834\n"
     ]
    }
   ],
   "source": [
    "print(\"quantile(0.05-0.95): [\",np.quantile(y_test, 0.05),\",\", np.quantile(y_test, 0.95),\"]\")\n",
    "print(\"BART RMS:\", rmse(y_test,y_test_predicted),\"\\n\", \"Baseline RMS:\", rmse(y_test,y_test.mean()))\n",
    "print(\"r square:\", r_square(y_test,y_test_predicted), \"\\n\", \"nrmse:\", nrmse(y_test, y_test_predicted, 'range'))\n",
    "print(\"coverage rate:\", coverage_rate(y_test, y_test_predicted_lb, y_test_predicted_ub))"
   ]
  },
  {
   "cell_type": "code",
   "execution_count": 13,
   "metadata": {},
   "outputs": [
    {
     "name": "stdout",
     "output_type": "stream",
     "text": [
      "quantile(0.05-0.95): [ 11.781299542827616 , 127.42743961736396 ]\n",
      "BART RMS: 35.56062420117145 \n",
      " Baseline RMS: 43.17957642401473\n",
      "r square: 0.32176219186890054 \n",
      " nrmse: 0.10287347880807751\n",
      "coverage rate: 0.6449704142011834\n"
     ]
    }
   ],
   "source": [
    "print(\"quantile(0.05-0.95): [\",np.quantile(y_test, 0.05),\",\", np.quantile(y_test, 0.95),\"]\")\n",
    "print(\"BART RMS:\", rmse(y_test,y_test_predicted),\"\\n\", \"Baseline RMS:\", rmse(y_test,y_test.mean()))\n",
    "print(\"r square:\", r_square(y_test,y_test_predicted), \"\\n\", \"nrmse:\", nrmse(y_test, y_test_predicted, 'range'))\n",
    "print(\"coverage rate:\", coverage_rate(y_test, y_test_predicted_lb, y_test_predicted_ub))"
   ]
  },
  {
   "cell_type": "markdown",
   "metadata": {},
   "source": [
    "#### K-fold Cross Validation"
   ]
  },
  {
   "cell_type": "code",
   "execution_count": 14,
   "metadata": {},
   "outputs": [],
   "source": [
    "fold_indices = kfold_indices(df_sub, 5)"
   ]
  },
  {
   "cell_type": "code",
   "execution_count": 15,
   "metadata": {},
   "outputs": [],
   "source": [
    "def cross_validation_test(df, law, fold_indices):\n",
    "    bartCause = BARTCause()\n",
    "    \n",
    "    X_df = df.iloc[:, :27].to_numpy()\n",
    "    M = X_df.shape[1] \n",
    "\n",
    "    y = df[['delta_death_rate']].to_numpy()\n",
    "    Z_law = df[[law]].to_numpy()\n",
    "    # numerical columns\n",
    "    num_cols = [c for c in range(M) if len(np.unique(X_df[:, c])) > 2] \n",
    "\n",
    "    scores = []\n",
    "\n",
    "    for fold, (train_indices, test_indices) in enumerate(fold_indices):\n",
    "        print(\"fold:\",fold)\n",
    "        X_train, y_train, Z_train = X_df[train_indices,:], y[train_indices,:], Z_law[train_indices,:]\n",
    "        X_test, y_test, Z_test = X_df[test_indices,:], y[test_indices,:], Z_law[test_indices,:]\n",
    "\n",
    "        # standardize data\n",
    "        scaler_ = preprocessing.StandardScaler().fit(X_train[:,num_cols])\n",
    "        X_train_scaled = np.copy(X_train)\n",
    "        X_train_scaled[:,num_cols] = scaler_.transform(X_train[:,num_cols])\n",
    "\n",
    "        X_test_scaled = np.copy(X_test)\n",
    "        X_test_scaled[:,num_cols] = scaler_.transform(X_test[:,num_cols])\n",
    "        \n",
    "        # Train the model on the training data\n",
    "        bartCause.fit(X_train_scaled, y_train, Z_train, n_samples=1000,  n_burn=200,  n_chains=5)\n",
    "\n",
    "        # Make predictions on the test data\n",
    "        test_data = np.concatenate((X_test_scaled, Z_test), axis=1)\n",
    "        y_test_pred_, _, _ = bartCause.predict(test_data, infer_type=\"mu\")\n",
    "        y_test_pred = y_test_pred_[:,np.newaxis]\n",
    "        \n",
    "        # Calculate the accuracy score for this fold\n",
    "        fold_score = nrmse(y_test, y_test_pred, 'range')\n",
    "        \n",
    "        # Append the fold score to the list of scores\n",
    "        scores.append(fold_score)\n",
    "\n",
    "    # Calculate the mean accuracy across all folds\n",
    "    mean_score = np.mean(scores)\n",
    "\n",
    "    return scores, mean_score"
   ]
  },
  {
   "cell_type": "code",
   "execution_count": 16,
   "metadata": {},
   "outputs": [
    {
     "name": "stdout",
     "output_type": "stream",
     "text": [
      "fold: 0\n",
      "fold: 1\n",
      "fold: 2\n",
      "fold: 3\n",
      "fold: 4\n",
      "K-Fold Cross-Validation Scores: [0.19721383933654238, 0.18236883991242064, 0.21179268686266461, 0.17022189621995654, 0.10603563517463505]\n",
      "Mean Score: 0.17352657950124387\n"
     ]
    }
   ],
   "source": [
    "scores, mean_score = cross_validation_test(df_sub, law, fold_indices)\n",
    "print(\"K-Fold Cross-Validation Scores:\", scores)\n",
    "print(\"Mean Score:\", mean_score)"
   ]
  },
  {
   "cell_type": "markdown",
   "metadata": {},
   "source": [
    "#### Permutation Test"
   ]
  },
  {
   "cell_type": "code",
   "execution_count": 17,
   "metadata": {},
   "outputs": [],
   "source": [
    "bartCause = BARTCause()\n",
    "X_scaled, y, Z_law = prepare_permute_data(df_sub, law)\n",
    "bartCause.fit(X_scaled, y, Z_law, n_samples=1000,  n_burn=200,  n_chains=5)"
   ]
  },
  {
   "cell_type": "code",
   "execution_count": 18,
   "metadata": {},
   "outputs": [
    {
     "name": "stdout",
     "output_type": "stream",
     "text": [
      "Avg ITE: 6.818436396210012 Stdev ITE: 3.475102475658373\n"
     ]
    }
   ],
   "source": [
    "# evaluate BART fit on response surface\n",
    "newData = np.concatenate((X_scaled, Z_law), axis=1)\n",
    "\n",
    "predicted_Z1, _, _ = bartCause.predict(newData, infer_type=\"mu.1\")\n",
    "predicted_Z0, _, _ = bartCause.predict(newData, infer_type=\"mu.0\")\n",
    "# predicted_Z1 = predicted_Z1_[:,np.newaxis]\n",
    "# predicted_Z0 = predicted_Z0_[:,np.newaxis]\n",
    "mean_law0 = predicted_Z0.mean()\n",
    "mean_law1 = predicted_Z1.mean()\n",
    "avg_ite = (predicted_Z1 - predicted_Z0).mean()\n",
    "std_ite = (predicted_Z1 - predicted_Z0).std()\n",
    "print(\"Avg ITE:\", avg_ite,\"Stdev ITE:\",std_ite)"
   ]
  },
  {
   "cell_type": "code",
   "execution_count": 19,
   "metadata": {},
   "outputs": [],
   "source": [
    "alternative_str = 'less' if avg_ite > 0 else 'greater'"
   ]
  },
  {
   "cell_type": "markdown",
   "metadata": {},
   "source": [
    "#### Permutation test"
   ]
  },
  {
   "cell_type": "code",
   "execution_count": 20,
   "metadata": {},
   "outputs": [
    {
     "data": {
      "text/plain": [
       "PermutationTestResult(statistic=-6.818436396210018, pvalue=0.0001, null_distribution=array([-0.86759074, -0.50513614,  0.47228053, ..., -0.32947869,\n",
       "       -0.12459578,  0.33080461]))"
      ]
     },
     "execution_count": 20,
     "metadata": {},
     "output_type": "execute_result"
    }
   ],
   "source": [
    "res_permute = permutation_test((predicted_Z0, predicted_Z1), statistic, alternative=alternative_str)\n",
    "res_permute"
   ]
  },
  {
   "cell_type": "markdown",
   "metadata": {},
   "source": [
    "#### Paired Samples t-Test (Dependent Samples t-Test)"
   ]
  },
  {
   "cell_type": "code",
   "execution_count": 21,
   "metadata": {},
   "outputs": [
    {
     "data": {
      "text/plain": [
       "TtestResult(statistic=-56.93420012752554, pvalue=3.1599248251251807e-291, df=842)"
      ]
     },
     "execution_count": 21,
     "metadata": {},
     "output_type": "execute_result"
    }
   ],
   "source": [
    "res_ttest = stats.ttest_rel(predicted_Z0, predicted_Z1, alternative=alternative_str)\n",
    "res_ttest"
   ]
  },
  {
   "cell_type": "markdown",
   "metadata": {},
   "source": [
    "#### Mann-Whitney U Test / Wilcoxon Rank-Sum Test (No normal distribution assumption)"
   ]
  },
  {
   "cell_type": "code",
   "execution_count": 22,
   "metadata": {},
   "outputs": [
    {
     "data": {
      "text/plain": [
       "MannwhitneyuResult(statistic=289945.0, pvalue=3.055554973857589e-11)"
      ]
     },
     "execution_count": 22,
     "metadata": {},
     "output_type": "execute_result"
    }
   ],
   "source": [
    "res_mannwhitneyu = stats.mannwhitneyu(predicted_Z0, predicted_Z1, alternative=alternative_str)\n",
    "res_mannwhitneyu"
   ]
  },
  {
   "cell_type": "code",
   "execution_count": 23,
   "metadata": {},
   "outputs": [
    {
     "data": {
      "image/png": "[encoded data removed]",
      "text/plain": [
       "<Figure size 1000x600 with 1 Axes>"
      ]
     },
     "metadata": {},
     "output_type": "display_data"
    }
   ],
   "source": [
    "\n",
    "plt.figure(figsize=(10, 6))\n",
    "plt.hist(predicted_Z0, bins=30, alpha=0.5, label='Law Inactive')\n",
    "plt.hist(predicted_Z1, bins=30, alpha=0.5, label='Law Active')\n",
    "\n",
    "plt.axvline(mean_law0, color='blue', linestyle='dashed', linewidth=1)\n",
    "plt.text(mean_law0 + 2, plt.ylim()[1] * 0.6, f'Inactive Mean: {mean_law0:.3f}', color='darkblue')\n",
    "plt.axvline(mean_law1, color='red', linestyle='dashed', linewidth=1)\n",
    "plt.text(mean_law1 + 2, plt.ylim()[1] * 0.4, f'Active Mean: {mean_law1:.3f}', color='red')\n",
    "\n",
    "plt.text(plt.xlim()[1]*0.6, plt.ylim()[1] * 0.45, f'mann-whitney P-value : {res_mannwhitneyu.pvalue:.4f}', color='black')\n",
    "plt.text(plt.xlim()[1]*0.6, plt.ylim()[1] * 0.5, f'permutation P-value: {res_permute.pvalue:.4f}', color='black')\n",
    "plt.text(plt.xlim()[1]*0.6, plt.ylim()[1] * 0.55, f'paired t P-value: {res_ttest.pvalue:.4f}', color='black')\n",
    "plt.text(plt.xlim()[1]*0.6, plt.ylim()[1] * 0.38, f'Avg ITE: {avg_ite:.2f} Stdev ITE:{std_ite:.2f}', color='black', fontsize=10)\n",
    "\n",
    "if len(conds) > 0:\n",
    "    for i,cond in enumerate(conds):\n",
    "        cond_text = cond[6:] \n",
    "        plt.text(plt.xlim()[1]*0.6, plt.ylim()[1] * -0.15 -3.5 * i, cond_text, color='black')\n",
    "\n",
    "\n",
    "plt.xlabel('Death rate differential(2017 - 2013)')\n",
    "plt.ylabel('Frequency')\n",
    "plt.title('Death rate differential grouped by '+ law+'(law)')\n",
    "plt.legend()\n",
    "# plt.savefig(\"demo_res/sub_law_\"+law+\".png\")\n",
    "plt.show()"
   ]
  }
 ],
 "metadata": {
  "kernelspec": {
   "display_name": "legal",
   "language": "python",
   "name": "python3"
  },
  "language_info": {
   "codemirror_mode": {
    "name": "ipython",
    "version": 3
   },
   "file_extension": ".py",
   "mimetype": "text/x-python",
   "name": "python",
   "nbconvert_exporter": "python",
   "pygments_lexer": "ipython3",
   "version": "3.8.19"
  }
 },
 "nbformat": 4,
 "nbformat_minor": 2
}
