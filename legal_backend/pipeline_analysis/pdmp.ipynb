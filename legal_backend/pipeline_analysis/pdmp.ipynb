{
 "cells": [
  {
   "cell_type": "code",
   "execution_count": 1,
   "metadata": {},
   "outputs": [],
   "source": [
    "from legal_backend.r_to_py.r_to_py import init_R\n",
    "from legal_backend.bartCause.bart_cause import BARTCause\n",
    "import pandas as pd\n",
    "import numpy as np\n",
    "\n",
    "from sklearn.model_selection import train_test_split\n",
    "from sklearn import preprocessing\n",
    "from scipy.stats import permutation_test\n",
    "from matplotlib import pyplot as plt\n",
    "from scipy import stats\n",
    "from sklearn.decomposition import PCA"
   ]
  },
  {
   "cell_type": "code",
   "execution_count": 2,
   "metadata": {},
   "outputs": [],
   "source": [
    "init_R()"
   ]
  },
  {
   "cell_type": "markdown",
   "metadata": {},
   "source": [
    "### Infer Law Effect"
   ]
  },
  {
   "cell_type": "code",
   "execution_count": 6,
   "metadata": {},
   "outputs": [],
   "source": [
    "#load csv files and load possible laws\n",
    "df = pd.read_csv('data/pdmp_clean.csv')"
   ]
  },
  {
   "cell_type": "code",
   "execution_count": 7,
   "metadata": {},
   "outputs": [],
   "source": [
    "df.rename(columns={'death-rate-2013-2016':'delta_death_rate'}, inplace=True)"
   ]
  },
  {
   "cell_type": "code",
   "execution_count": 8,
   "metadata": {},
   "outputs": [],
   "source": [
    "df['Urbanicity'] = df['Urbanicity'].map({'Urban':1, 'Rural':0})"
   ]
  },
  {
   "cell_type": "code",
   "execution_count": 9,
   "metadata": {},
   "outputs": [
    {
     "data": {
      "text/plain": [
       "Index(['Percent-of-Population-Under-15-(2013-2017)',\n",
       "       'Percent-of-Population-Aged-15-to-64-(2013-2017)',\n",
       "       'Percent-of-Population-65+-(2013-2017)',\n",
       "       'Percent-of-Population-White-(non-Hispanic)-(2013-2017)',\n",
       "       'Percent-of-Populaiton-Black-(non-Hispanic)-(2013-2017)',\n",
       "       'Percent-of-Population-Hispanic-or-Latino-(2013-2017)',\n",
       "       'Percent-of-Population-Asian-(non-Hispanic)-(2013-2017)',\n",
       "       'Percent-of-Population-Native-American/Alaska-Native-(non-Hispanic)-(2013-2017)',\n",
       "       'Percent-of-Population-Native-Hawaiian/Pacific-Islander-(2013-2017)',\n",
       "       'Percent-of-Population-Aged-25+-who-Have-at-Least-a-High-School-Diploma-(2013-2017)',\n",
       "       'Percent-of-Population-Aged-25+-who-Have-a-Bachelor's-Degree-or-More-(2013-2017)',\n",
       "       'Poverty-Rate-(2013-2017)', 'Median-Household-Income-(2013-2017)',\n",
       "       'Unemployment-Rate-(2013-2017)',\n",
       "       'Percent-of-Residents-with-a-Disability-(Aged-18-64)-(2013-2017)',\n",
       "       'Percent-of-Popualtion-Employed-in-Mining-and-Natural-Resources-(2013-2017)',\n",
       "       'Percent-of-Popualtion-Employed-in-Construction-(2013-2017)',\n",
       "       'Percent-of-Popualtion-Employed-in-Trade-Transportation-and-Utilities-(2013-2017)',\n",
       "       'Number-of-Substance-Use-Facilities-(As-of-March-2023)',\n",
       "       'Number-of-Mental-Health-Facilities-(As-of-March-2023)', 'MDsPerCapita',\n",
       "       'Urbanicity', 'Social-Resilience-Score', 'Economic-Risk-Score',\n",
       "       'Social-Risk-Score', 'Economic-Resilience-Score',\n",
       "       'Prosperity-Index-Score', 'delta_death_rate', 'pmp2012',\n",
       "       'share-disreprot', 'share-disreport',\n",
       "       'reportable-drugs_State Schedule I',\n",
       "       'reportable-drugsState Schedule II',\n",
       "       'reportable-drugsState Schedule III',\n",
       "       'reportable-drugsState Schedule IV', 'reportable-drugsState Schedule V',\n",
       "       'reportable-drugs_Federal Schedule I',\n",
       "       'reportable-drugs_Federal Schedule II',\n",
       "       'reportable-drugs_Federal Schedule III',\n",
       "       'reportable-drugs_Federal Schedule IV',\n",
       "       'reportable-drugs_Federal Schedule V',\n",
       "       'reportable-drugs_Reportable Drugs Not Specified', 'must-access',\n",
       "       'prescriber-freq', 'share-dispecheck', 'dispenser-freq',\n",
       "       'share-stateagen', 'share-insurance', 'state-share',\n",
       "       'share-provision_Receiving state must allow reciprocity with this state',\n",
       "       'share-provision_Must have bilateral memorandum of understanding or data sharing agreement',\n",
       "       'share-provision_Only if other state has PDMP laws consistent with or similar to this state',\n",
       "       'share-provision_Physically bordering states only or higher priority',\n",
       "       'share-provision_None of the above restrictions'],\n",
       "      dtype='object')"
      ]
     },
     "execution_count": 9,
     "metadata": {},
     "output_type": "execute_result"
    }
   ],
   "source": [
    "df.columns"
   ]
  },
  {
   "cell_type": "markdown",
   "metadata": {},
   "source": [
    "### Negative Patterns"
   ]
  },
  {
   "cell_type": "code",
   "execution_count": 132,
   "metadata": {},
   "outputs": [],
   "source": [
    "# df_sub = df[df['Percent-of-Population-Under-15-(2013-2017)']>0.202].reset_index(drop=True)\n",
    "# df_sub = df_sub[df_sub['Percent-of-Popualtion-Employed-in-Mining-and-Natural-Resources-(2013-2017)']>0.019].reset_index(drop=True)\n",
    "# df_sub = df[df['Percent-of-Population-Under-15-(2013-2017)']>0.202].reset_index(drop=True)\n",
    "# law = 'naloxone-thirdcare'"
   ]
  },
  {
   "cell_type": "code",
   "execution_count": 30,
   "metadata": {},
   "outputs": [],
   "source": [
    "# df_sub = df[df['Percent-of-Residents-with-a-Disability-(Aged-18-64)-(2013-2017)']<0.116].reset_index(drop=True)\n",
    "# df_sub = df[df['Percent-of-Population-Native-Hawaiian/Pacific-Islander-(2013-2017)']>0.001].reset_index(drop=True)\n",
    "# df_sub = df[df['Percent-of-Population-Aged-25+-who-Have-a-Bachelor\\'s-Degree-or-More-(2013-2017)']>0.221].reset_index(drop=True)\n",
    "# df_sub = df_sub[df_sub['Economic-Risk-Score']==3].reset_index(drop=True)\n",
    "# law = 'reportable-drugs_Federal Schedule I'"
   ]
  },
  {
   "cell_type": "code",
   "execution_count": 63,
   "metadata": {},
   "outputs": [],
   "source": [
    "df_sub = df[df['Percent-of-Population-Native-Hawaiian/Pacific-Islander-(2013-2017)']>0.001].reset_index(drop=True)\n",
    "# df_sub = df_sub[df_sub['Percent-of-Population-Hispanic-or-Latino-(2013-2017)']>0.127].reset_index(drop=True)\n",
    "law = 'reportable-drugs_Federal Schedule III'"
   ]
  },
  {
   "cell_type": "code",
   "execution_count": null,
   "metadata": {},
   "outputs": [],
   "source": [
    "# df_sub = df[df['poverty_rate_(2013_2017)']<0.102].reset_index(drop=True)\n",
    "# law = 'PDMP_any'"
   ]
  },
  {
   "cell_type": "code",
   "execution_count": null,
   "metadata": {},
   "outputs": [],
   "source": [
    "# df_sub = df[df['median_household_income_(2013_2017)']<52314].reset_index(drop=True)\n",
    "# df_sub = df_sub[df_sub['percent_of_population_hispanic_or_latino_(2013_2017)']>0.05].reset_index(drop=True)\n",
    "# df_sub = df_sub[df_sub['percent_of_population_hispanic_or_latino_(2013_2017)']<0.139].reset_index(drop=True)"
   ]
  },
  {
   "cell_type": "code",
   "execution_count": null,
   "metadata": {},
   "outputs": [],
   "source": [
    "# df_sub = df[df['percent_of_populaiton_black_(non_hispanic)_(2013_2017)']>0.03].reset_index(drop=True)\n",
    "# df_sub = df_sub[df_sub['percent_of_population_hispanic_or_latino_(2013_2017)']>0.05].reset_index(drop=True)\n",
    "# df_sub = df_sub[df_sub['percent_of_population_hispanic_or_latino_(2013_2017)']<0.139].reset_index(drop=True)\n",
    "# law = 'PDMP_leowhenActive investigations'"
   ]
  },
  {
   "cell_type": "code",
   "execution_count": 64,
   "metadata": {},
   "outputs": [
    {
     "name": "stdout",
     "output_type": "stream",
     "text": [
      "reportable-drugs_Federal Schedule III\n",
      "202\n"
     ]
    },
    {
     "data": {
      "text/html": [
       "<div>\n",
       "<style scoped>\n",
       "    .dataframe tbody tr th:only-of-type {\n",
       "        vertical-align: middle;\n",
       "    }\n",
       "\n",
       "    .dataframe tbody tr th {\n",
       "        vertical-align: top;\n",
       "    }\n",
       "\n",
       "    .dataframe thead th {\n",
       "        text-align: right;\n",
       "    }\n",
       "</style>\n",
       "<table border=\"1\" class=\"dataframe\">\n",
       "  <thead>\n",
       "    <tr style=\"text-align: right;\">\n",
       "      <th></th>\n",
       "      <th>Percent-of-Population-Under-15-(2013-2017)</th>\n",
       "      <th>Percent-of-Population-Aged-15-to-64-(2013-2017)</th>\n",
       "      <th>Percent-of-Population-65+-(2013-2017)</th>\n",
       "      <th>Percent-of-Population-White-(non-Hispanic)-(2013-2017)</th>\n",
       "      <th>Percent-of-Populaiton-Black-(non-Hispanic)-(2013-2017)</th>\n",
       "      <th>Percent-of-Population-Hispanic-or-Latino-(2013-2017)</th>\n",
       "      <th>Percent-of-Population-Asian-(non-Hispanic)-(2013-2017)</th>\n",
       "      <th>Percent-of-Population-Native-American/Alaska-Native-(non-Hispanic)-(2013-2017)</th>\n",
       "      <th>Percent-of-Population-Native-Hawaiian/Pacific-Islander-(2013-2017)</th>\n",
       "      <th>Percent-of-Population-Aged-25+-who-Have-at-Least-a-High-School-Diploma-(2013-2017)</th>\n",
       "      <th>...</th>\n",
       "      <th>share-dispecheck</th>\n",
       "      <th>dispenser-freq</th>\n",
       "      <th>share-stateagen</th>\n",
       "      <th>share-insurance</th>\n",
       "      <th>state-share</th>\n",
       "      <th>share-provision_Receiving state must allow reciprocity with this state</th>\n",
       "      <th>share-provision_Must have bilateral memorandum of understanding or data sharing agreement</th>\n",
       "      <th>share-provision_Only if other state has PDMP laws consistent with or similar to this state</th>\n",
       "      <th>share-provision_Physically bordering states only or higher priority</th>\n",
       "      <th>share-provision_None of the above restrictions</th>\n",
       "    </tr>\n",
       "  </thead>\n",
       "  <tbody>\n",
       "    <tr>\n",
       "      <th>0</th>\n",
       "      <td>0.2120</td>\n",
       "      <td>0.6619</td>\n",
       "      <td>0.1260</td>\n",
       "      <td>0.4872</td>\n",
       "      <td>0.4202</td>\n",
       "      <td>0.0507</td>\n",
       "      <td>0.0068</td>\n",
       "      <td>0.0037</td>\n",
       "      <td>0.0022</td>\n",
       "      <td>0.8256</td>\n",
       "      <td>...</td>\n",
       "      <td>0.0</td>\n",
       "      <td>0.0</td>\n",
       "      <td>1.0</td>\n",
       "      <td>0.0</td>\n",
       "      <td>1.0</td>\n",
       "      <td>1.0</td>\n",
       "      <td>0.0</td>\n",
       "      <td>0.0</td>\n",
       "      <td>0.0</td>\n",
       "      <td>0.0</td>\n",
       "    </tr>\n",
       "    <tr>\n",
       "      <th>1</th>\n",
       "      <td>0.2099</td>\n",
       "      <td>0.7006</td>\n",
       "      <td>0.0895</td>\n",
       "      <td>0.5984</td>\n",
       "      <td>0.0531</td>\n",
       "      <td>0.0872</td>\n",
       "      <td>0.0880</td>\n",
       "      <td>0.0671</td>\n",
       "      <td>0.0223</td>\n",
       "      <td>0.9329</td>\n",
       "      <td>...</td>\n",
       "      <td>0.0</td>\n",
       "      <td>0.0</td>\n",
       "      <td>0.0</td>\n",
       "      <td>0.0</td>\n",
       "      <td>0.0</td>\n",
       "      <td>0.0</td>\n",
       "      <td>0.0</td>\n",
       "      <td>0.0</td>\n",
       "      <td>0.0</td>\n",
       "      <td>0.0</td>\n",
       "    </tr>\n",
       "    <tr>\n",
       "      <th>2</th>\n",
       "      <td>0.2097</td>\n",
       "      <td>0.7120</td>\n",
       "      <td>0.0784</td>\n",
       "      <td>0.7153</td>\n",
       "      <td>0.0398</td>\n",
       "      <td>0.0747</td>\n",
       "      <td>0.0288</td>\n",
       "      <td>0.0600</td>\n",
       "      <td>0.0050</td>\n",
       "      <td>0.9439</td>\n",
       "      <td>...</td>\n",
       "      <td>0.0</td>\n",
       "      <td>0.0</td>\n",
       "      <td>0.0</td>\n",
       "      <td>0.0</td>\n",
       "      <td>0.0</td>\n",
       "      <td>0.0</td>\n",
       "      <td>0.0</td>\n",
       "      <td>0.0</td>\n",
       "      <td>0.0</td>\n",
       "      <td>0.0</td>\n",
       "    </tr>\n",
       "    <tr>\n",
       "      <th>3</th>\n",
       "      <td>0.2279</td>\n",
       "      <td>0.6765</td>\n",
       "      <td>0.0956</td>\n",
       "      <td>0.8037</td>\n",
       "      <td>0.0098</td>\n",
       "      <td>0.0452</td>\n",
       "      <td>0.0133</td>\n",
       "      <td>0.0504</td>\n",
       "      <td>0.0018</td>\n",
       "      <td>0.9240</td>\n",
       "      <td>...</td>\n",
       "      <td>0.0</td>\n",
       "      <td>0.0</td>\n",
       "      <td>0.0</td>\n",
       "      <td>0.0</td>\n",
       "      <td>0.0</td>\n",
       "      <td>0.0</td>\n",
       "      <td>0.0</td>\n",
       "      <td>0.0</td>\n",
       "      <td>0.0</td>\n",
       "      <td>0.0</td>\n",
       "    </tr>\n",
       "    <tr>\n",
       "      <th>4</th>\n",
       "      <td>0.1859</td>\n",
       "      <td>0.6166</td>\n",
       "      <td>0.1976</td>\n",
       "      <td>0.5630</td>\n",
       "      <td>0.0371</td>\n",
       "      <td>0.3440</td>\n",
       "      <td>0.0173</td>\n",
       "      <td>0.0082</td>\n",
       "      <td>0.0028</td>\n",
       "      <td>0.8659</td>\n",
       "      <td>...</td>\n",
       "      <td>0.0</td>\n",
       "      <td>0.0</td>\n",
       "      <td>0.0</td>\n",
       "      <td>0.0</td>\n",
       "      <td>1.0</td>\n",
       "      <td>0.0</td>\n",
       "      <td>1.0</td>\n",
       "      <td>0.0</td>\n",
       "      <td>0.0</td>\n",
       "      <td>0.0</td>\n",
       "    </tr>\n",
       "  </tbody>\n",
       "</table>\n",
       "<p>5 rows × 54 columns</p>\n",
       "</div>"
      ],
      "text/plain": [
       "   Percent-of-Population-Under-15-(2013-2017)  \\\n",
       "0                                      0.2120   \n",
       "1                                      0.2099   \n",
       "2                                      0.2097   \n",
       "3                                      0.2279   \n",
       "4                                      0.1859   \n",
       "\n",
       "   Percent-of-Population-Aged-15-to-64-(2013-2017)  \\\n",
       "0                                           0.6619   \n",
       "1                                           0.7006   \n",
       "2                                           0.7120   \n",
       "3                                           0.6765   \n",
       "4                                           0.6166   \n",
       "\n",
       "   Percent-of-Population-65+-(2013-2017)  \\\n",
       "0                                 0.1260   \n",
       "1                                 0.0895   \n",
       "2                                 0.0784   \n",
       "3                                 0.0956   \n",
       "4                                 0.1976   \n",
       "\n",
       "   Percent-of-Population-White-(non-Hispanic)-(2013-2017)  \\\n",
       "0                                             0.4872        \n",
       "1                                             0.5984        \n",
       "2                                             0.7153        \n",
       "3                                             0.8037        \n",
       "4                                             0.5630        \n",
       "\n",
       "   Percent-of-Populaiton-Black-(non-Hispanic)-(2013-2017)  \\\n",
       "0                                             0.4202        \n",
       "1                                             0.0531        \n",
       "2                                             0.0398        \n",
       "3                                             0.0098        \n",
       "4                                             0.0371        \n",
       "\n",
       "   Percent-of-Population-Hispanic-or-Latino-(2013-2017)  \\\n",
       "0                                             0.0507      \n",
       "1                                             0.0872      \n",
       "2                                             0.0747      \n",
       "3                                             0.0452      \n",
       "4                                             0.3440      \n",
       "\n",
       "   Percent-of-Population-Asian-(non-Hispanic)-(2013-2017)  \\\n",
       "0                                             0.0068        \n",
       "1                                             0.0880        \n",
       "2                                             0.0288        \n",
       "3                                             0.0133        \n",
       "4                                             0.0173        \n",
       "\n",
       "   Percent-of-Population-Native-American/Alaska-Native-(non-Hispanic)-(2013-2017)  \\\n",
       "0                                             0.0037                                \n",
       "1                                             0.0671                                \n",
       "2                                             0.0600                                \n",
       "3                                             0.0504                                \n",
       "4                                             0.0082                                \n",
       "\n",
       "   Percent-of-Population-Native-Hawaiian/Pacific-Islander-(2013-2017)  \\\n",
       "0                                             0.0022                    \n",
       "1                                             0.0223                    \n",
       "2                                             0.0050                    \n",
       "3                                             0.0018                    \n",
       "4                                             0.0028                    \n",
       "\n",
       "   Percent-of-Population-Aged-25+-who-Have-at-Least-a-High-School-Diploma-(2013-2017)  \\\n",
       "0                                             0.8256                                    \n",
       "1                                             0.9329                                    \n",
       "2                                             0.9439                                    \n",
       "3                                             0.9240                                    \n",
       "4                                             0.8659                                    \n",
       "\n",
       "   ...  share-dispecheck  dispenser-freq  share-stateagen  share-insurance  \\\n",
       "0  ...               0.0             0.0              1.0              0.0   \n",
       "1  ...               0.0             0.0              0.0              0.0   \n",
       "2  ...               0.0             0.0              0.0              0.0   \n",
       "3  ...               0.0             0.0              0.0              0.0   \n",
       "4  ...               0.0             0.0              0.0              0.0   \n",
       "\n",
       "   state-share  \\\n",
       "0          1.0   \n",
       "1          0.0   \n",
       "2          0.0   \n",
       "3          0.0   \n",
       "4          1.0   \n",
       "\n",
       "   share-provision_Receiving state must allow reciprocity with this state  \\\n",
       "0                                                1.0                        \n",
       "1                                                0.0                        \n",
       "2                                                0.0                        \n",
       "3                                                0.0                        \n",
       "4                                                0.0                        \n",
       "\n",
       "   share-provision_Must have bilateral memorandum of understanding or data sharing agreement  \\\n",
       "0                                                0.0                                           \n",
       "1                                                0.0                                           \n",
       "2                                                0.0                                           \n",
       "3                                                0.0                                           \n",
       "4                                                1.0                                           \n",
       "\n",
       "   share-provision_Only if other state has PDMP laws consistent with or similar to this state  \\\n",
       "0                                                0.0                                            \n",
       "1                                                0.0                                            \n",
       "2                                                0.0                                            \n",
       "3                                                0.0                                            \n",
       "4                                                0.0                                            \n",
       "\n",
       "   share-provision_Physically bordering states only or higher priority  \\\n",
       "0                                                0.0                     \n",
       "1                                                0.0                     \n",
       "2                                                0.0                     \n",
       "3                                                0.0                     \n",
       "4                                                0.0                     \n",
       "\n",
       "   share-provision_None of the above restrictions  \n",
       "0                                             0.0  \n",
       "1                                             0.0  \n",
       "2                                             0.0  \n",
       "3                                             0.0  \n",
       "4                                             0.0  \n",
       "\n",
       "[5 rows x 54 columns]"
      ]
     },
     "execution_count": 64,
     "metadata": {},
     "output_type": "execute_result"
    }
   ],
   "source": [
    "print(law)\n",
    "print(df_sub.shape[0])\n",
    "df_sub.head()"
   ]
  },
  {
   "cell_type": "code",
   "execution_count": 89,
   "metadata": {},
   "outputs": [
    {
     "data": {
      "text/plain": [
       "Counter({0.0: 128, 1.0: 74})"
      ]
     },
     "execution_count": 89,
     "metadata": {},
     "output_type": "execute_result"
    }
   ],
   "source": [
    "from collections import Counter\n",
    "Counter(df_sub[law])"
   ]
  },
  {
   "cell_type": "code",
   "execution_count": 65,
   "metadata": {},
   "outputs": [],
   "source": [
    "# construct train test data \n",
    "def prepare_train_data(df, law):\n",
    "    train_idxs, test_idxs = train_test_split(list(df.index), test_size=0.2, random_state=1)\n",
    "\n",
    "    X_df = df.iloc[:, :27].to_numpy()\n",
    "    M = X_df.shape[1] \n",
    "\n",
    "    y = df[['delta_death_rate']].to_numpy()\n",
    "    Z_law = df[[law]].to_numpy()\n",
    "    # numerical columns\n",
    "    num_cols = [c for c in range(M) if len(np.unique(X_df[:, c])) > 2] \n",
    "\n",
    "\n",
    "    X_train = X_df[train_idxs,:]\n",
    "    X_test = X_df[test_idxs,:]\n",
    "\n",
    "    y_train = y[train_idxs,:]\n",
    "    y_test= y[test_idxs,:]\n",
    "\n",
    "    Z_train = Z_law[train_idxs,:]\n",
    "    Z_test= Z_law[test_idxs,:]\n",
    "\n",
    "    # standardize data\n",
    "    scaler_ = preprocessing.StandardScaler().fit(X_train[:,num_cols])\n",
    "    X_train_scaled = np.copy(X_train)\n",
    "    X_train_scaled[:,num_cols] = scaler_.transform(X_train[:,num_cols])\n",
    "\n",
    "    X_test_scaled = np.copy(X_test)\n",
    "    X_test_scaled[:,num_cols] = scaler_.transform(X_test[:,num_cols])\n",
    "    return X_train_scaled, y_train, Z_train, X_test_scaled, y_test, Z_test\n"
   ]
  },
  {
   "cell_type": "code",
   "execution_count": 66,
   "metadata": {},
   "outputs": [],
   "source": [
    "X_train_scaled, y_train, Z_train, X_test_scaled, y_test, Z_test = prepare_train_data(df_sub, law)"
   ]
  },
  {
   "cell_type": "code",
   "execution_count": 67,
   "metadata": {},
   "outputs": [],
   "source": [
    "bart_eval = BARTCause()"
   ]
  },
  {
   "cell_type": "code",
   "execution_count": 68,
   "metadata": {},
   "outputs": [],
   "source": [
    "bart_eval.fit(X_train_scaled, y_train, Z_train, n_samples=1000,  n_burn=200,  n_chains=10)"
   ]
  },
  {
   "cell_type": "code",
   "execution_count": 69,
   "metadata": {},
   "outputs": [],
   "source": [
    "def rmse(y, y_pred):\n",
    "    rmse = np.sqrt((np.sum((y - y_pred) ** 2) / y.shape[0]))\n",
    "    return rmse"
   ]
  },
  {
   "cell_type": "code",
   "execution_count": 70,
   "metadata": {},
   "outputs": [],
   "source": [
    "def nrmse(y, y_pred, norm_method):\n",
    "    rmse = np.sqrt((np.sum((y - y_pred) ** 2) / y.shape[0]))\n",
    "    if norm_method=='mean':\n",
    "        nrmse = rmse / y.mean()\n",
    "    elif norm_method=='range':\n",
    "        nrmse = rmse / (y.max() - y.min())\n",
    "    else:\n",
    "        nrmse = rmse\n",
    "    return nrmse"
   ]
  },
  {
   "cell_type": "code",
   "execution_count": 71,
   "metadata": {},
   "outputs": [],
   "source": [
    "# evaluate BART fit on response surface\n",
    "newData = np.concatenate((X_test_scaled, Z_test), axis=1)\n",
    "\n",
    "y_test_predicted_ = bart_eval.predict(newData, infer_type=\"mu\")\n",
    "y_test_predicted = y_test_predicted_[:,np.newaxis]"
   ]
  },
  {
   "cell_type": "code",
   "execution_count": 72,
   "metadata": {},
   "outputs": [
    {
     "name": "stdout",
     "output_type": "stream",
     "text": [
      "BART RMS: 19.186171532207236 \n",
      " Baseline RMS: 21.526947931998148\n"
     ]
    }
   ],
   "source": [
    "print(\"BART RMS:\", rmse(y_test,y_test_predicted),\"\\n\", \"Baseline RMS:\", rmse(y_test,y_test.mean()))"
   ]
  },
  {
   "cell_type": "code",
   "execution_count": 73,
   "metadata": {},
   "outputs": [],
   "source": [
    "def r_square(y, y_pred):\n",
    "    # residual sum of squares\n",
    "    ss_res = np.sum((y - y_pred) ** 2)\n",
    "\n",
    "    # total sum of squares\n",
    "    ss_tot = np.sum((y - np.mean(y)) ** 2)\n",
    "\n",
    "    # r-squared\n",
    "    r2 = 1 - (ss_res / ss_tot)\n",
    "    return r2"
   ]
  },
  {
   "cell_type": "code",
   "execution_count": 74,
   "metadata": {},
   "outputs": [
    {
     "data": {
      "text/plain": [
       "0.20565031968967806"
      ]
     },
     "execution_count": 74,
     "metadata": {},
     "output_type": "execute_result"
    }
   ],
   "source": [
    "# evaluate BART fit on response surface\n",
    "newData = np.concatenate((X_test_scaled, Z_test), axis=1)\n",
    "\n",
    "y_test_predicted_ = bart_eval.predict(newData, infer_type=\"mu\")\n",
    "y_test_predicted = y_test_predicted_[:,np.newaxis]\n",
    "\n",
    "r_square(y_test,y_test_predicted)"
   ]
  },
  {
   "cell_type": "markdown",
   "metadata": {},
   "source": [
    "#### K-fold Cross Validation"
   ]
  },
  {
   "cell_type": "code",
   "execution_count": 75,
   "metadata": {},
   "outputs": [],
   "source": [
    "def kfold_indices(data, k):\n",
    "\n",
    "    fold_size = len(data) // k\n",
    "    indices = np.arange(len(data))\n",
    "    folds = []\n",
    "    for i in range(k):\n",
    "        test_indices = indices[i * fold_size: (i + 1) * fold_size]\n",
    "        train_indices = np.concatenate([indices[:i * fold_size], indices[(i + 1) * fold_size:]])\n",
    "        folds.append((train_indices, test_indices))\n",
    "    return folds"
   ]
  },
  {
   "cell_type": "code",
   "execution_count": 76,
   "metadata": {},
   "outputs": [],
   "source": [
    "fold_indices = kfold_indices(df_sub, 5)"
   ]
  },
  {
   "cell_type": "code",
   "execution_count": 77,
   "metadata": {},
   "outputs": [],
   "source": [
    "def cross_validation_test(df, law, fold_indices):\n",
    "    bartCause = BARTCause()\n",
    "    \n",
    "    X_df = df.iloc[:, :27].to_numpy()\n",
    "    M = X_df.shape[1] \n",
    "\n",
    "    y = df[['delta_death_rate']].to_numpy()\n",
    "    Z_law = df[[law]].to_numpy()\n",
    "    # numerical columns\n",
    "    num_cols = [c for c in range(M) if len(np.unique(X_df[:, c])) > 2] \n",
    "\n",
    "    scores = []\n",
    "\n",
    "    for fold, (train_indices, test_indices) in enumerate(fold_indices):\n",
    "        print(\"fold:\",fold)\n",
    "        X_train, y_train, Z_train = X_df[train_indices,:], y[train_indices,:], Z_law[train_indices,:]\n",
    "        X_test, y_test, Z_test = X_df[test_indices,:], y[test_indices,:], Z_law[test_indices,:]\n",
    "\n",
    "        # standardize data\n",
    "        scaler_ = preprocessing.StandardScaler().fit(X_train[:,num_cols])\n",
    "        X_train_scaled = np.copy(X_train)\n",
    "        X_train_scaled[:,num_cols] = scaler_.transform(X_train[:,num_cols])\n",
    "\n",
    "        X_test_scaled = np.copy(X_test)\n",
    "        X_test_scaled[:,num_cols] = scaler_.transform(X_test[:,num_cols])\n",
    "        \n",
    "        # Train the model on the training data\n",
    "        bartCause.fit(X_train_scaled, y_train, Z_train, n_samples=1000,  n_burn=200,  n_chains=10)\n",
    "\n",
    "        # Make predictions on the test data\n",
    "        test_data = np.concatenate((X_test_scaled, Z_test), axis=1)\n",
    "        y_test_pred_ = bartCause.predict(test_data, infer_type=\"mu\")\n",
    "        y_test_pred = y_test_pred_[:,np.newaxis]\n",
    "        \n",
    "        # Calculate the accuracy score for this fold\n",
    "        fold_score = nrmse(y_test, y_test_pred, 'range')\n",
    "        \n",
    "        # Append the fold score to the list of scores\n",
    "        scores.append(fold_score)\n",
    "\n",
    "    # Calculate the mean accuracy across all folds\n",
    "    mean_score = np.mean(scores)\n",
    "\n",
    "    return scores, mean_score"
   ]
  },
  {
   "cell_type": "code",
   "execution_count": 78,
   "metadata": {},
   "outputs": [
    {
     "name": "stdout",
     "output_type": "stream",
     "text": [
      "fold: 0\n",
      "fold: 1\n",
      "fold: 2\n",
      "fold: 3\n",
      "fold: 4\n",
      "K-Fold Cross-Validation Scores: [0.23271795555182143, 0.2875277672517521, 0.2249164418156391, 0.2126771366156222, 0.30138318269832937]\n",
      "Mean Score: 0.2518444967866328\n"
     ]
    }
   ],
   "source": [
    "scores, mean_score = cross_validation_test(df_sub, law, fold_indices)\n",
    "print(\"K-Fold Cross-Validation Scores:\", scores)\n",
    "print(\"Mean Score:\", mean_score)"
   ]
  },
  {
   "cell_type": "markdown",
   "metadata": {},
   "source": [
    "#### Permutation Test"
   ]
  },
  {
   "cell_type": "code",
   "execution_count": 79,
   "metadata": {},
   "outputs": [],
   "source": [
    "# construct train test data \n",
    "def prepare_permute_data(df, law):\n",
    "\n",
    "    X_df = df.iloc[:, :27].to_numpy()\n",
    "    M = X_df.shape[1] \n",
    "\n",
    "    y = df[['delta_death_rate']].to_numpy()\n",
    "    Z_law = df[[law]].to_numpy()\n",
    "    # numerical columns\n",
    "    num_cols = [c for c in range(M) if len(np.unique(X_df[:, c])) > 2] \n",
    "\n",
    "\n",
    "    # standardize data\n",
    "    scaler_ = preprocessing.StandardScaler().fit(X_df[:,num_cols])\n",
    "    X_scaled = np.copy(X_df)\n",
    "    X_scaled[:,num_cols] = scaler_.transform(X_df[:,num_cols])\n",
    "\n",
    "    return X_scaled, y, Z_law\n"
   ]
  },
  {
   "cell_type": "code",
   "execution_count": 80,
   "metadata": {},
   "outputs": [],
   "source": [
    "bartCause = BARTCause()\n",
    "X_scaled, y, Z_law = prepare_permute_data(df_sub, law)"
   ]
  },
  {
   "cell_type": "code",
   "execution_count": 81,
   "metadata": {},
   "outputs": [],
   "source": [
    "bartCause.fit(X_scaled, y, Z_law, n_samples=1000,  n_burn=200,  n_chains=10)"
   ]
  },
  {
   "cell_type": "code",
   "execution_count": 82,
   "metadata": {},
   "outputs": [],
   "source": [
    "# evaluate BART fit on response surface\n",
    "newData = np.concatenate((X_scaled, Z_law), axis=1)\n",
    "\n",
    "predicted_Z1 = bartCause.predict(newData, infer_type=\"mu.1\")\n",
    "predicted_Z0 = bartCause.predict(newData, infer_type=\"mu.0\")\n",
    "# predicted_Z1 = predicted_Z1_[:,np.newaxis]\n",
    "# predicted_Z0 = predicted_Z0_[:,np.newaxis]\n",
    "mean_law0 = predicted_Z0.mean()\n",
    "mean_law1 = predicted_Z1.mean()"
   ]
  },
  {
   "cell_type": "code",
   "execution_count": 83,
   "metadata": {},
   "outputs": [],
   "source": [
    "# prepare for permutation test\n",
    "def statistic(x, y):\n",
    "    return np.mean(x) - np.mean(y)"
   ]
  },
  {
   "cell_type": "markdown",
   "metadata": {},
   "source": [
    "#### Permutation test"
   ]
  },
  {
   "cell_type": "code",
   "execution_count": 84,
   "metadata": {},
   "outputs": [
    {
     "data": {
      "text/plain": [
       "PermutationTestResult(statistic=10.789807546968198, pvalue=1.0, null_distribution=array([ 0.29515713, -0.06574514, -2.25038129, ..., -1.02357699,\n",
       "       -2.14834269,  1.06909119]))"
      ]
     },
     "execution_count": 84,
     "metadata": {},
     "output_type": "execute_result"
    }
   ],
   "source": [
    "res_permute = permutation_test((predicted_Z0, predicted_Z1), statistic, alternative='less')\n",
    "res_permute"
   ]
  },
  {
   "cell_type": "markdown",
   "metadata": {},
   "source": [
    "#### Paired Samples t-Test (Dependent Samples t-Test)"
   ]
  },
  {
   "cell_type": "code",
   "execution_count": 85,
   "metadata": {},
   "outputs": [
    {
     "data": {
      "text/plain": [
       "TtestResult(statistic=106.29844279623623, pvalue=1.0, df=201)"
      ]
     },
     "execution_count": 85,
     "metadata": {},
     "output_type": "execute_result"
    }
   ],
   "source": [
    "res_ttest = stats.ttest_rel(predicted_Z0, predicted_Z1, alternative='less')\n",
    "res_ttest"
   ]
  },
  {
   "cell_type": "markdown",
   "metadata": {},
   "source": [
    "#### Mann-Whitney U Test / Wilcoxon Rank-Sum Test (No normal distribution assumption)"
   ]
  },
  {
   "cell_type": "code",
   "execution_count": 86,
   "metadata": {},
   "outputs": [
    {
     "data": {
      "text/plain": [
       "MannwhitneyuResult(statistic=31469.0, pvalue=1.0)"
      ]
     },
     "execution_count": 86,
     "metadata": {},
     "output_type": "execute_result"
    }
   ],
   "source": [
    "res_mannwhitneyu = stats.mannwhitneyu(predicted_Z0, predicted_Z1, alternative='less')\n",
    "res_mannwhitneyu"
   ]
  },
  {
   "cell_type": "code",
   "execution_count": 87,
   "metadata": {},
   "outputs": [
    {
     "data": {
      "image/png": "[encoded data removed]",
      "text/plain": [
       "<Figure size 1000x600 with 1 Axes>"
      ]
     },
     "metadata": {},
     "output_type": "display_data"
    }
   ],
   "source": [
    "\n",
    "plt.figure(figsize=(10, 6))\n",
    "plt.hist(predicted_Z0, bins=30, alpha=0.5, label='Law Inactive')\n",
    "plt.hist(predicted_Z1, bins=30, alpha=0.5, label='Law Active')\n",
    "\n",
    "plt.axvline(mean_law0, color='blue', linestyle='dashed', linewidth=1)\n",
    "plt.text(mean_law0 + 2, plt.ylim()[1] * 0.6, f'Inactive Mean: {mean_law0:.3f}', color='darkblue')\n",
    "plt.axvline(mean_law1, color='red', linestyle='dashed', linewidth=1)\n",
    "plt.text(mean_law1 + 2, plt.ylim()[1] * 0.4, f'Active Mean: {mean_law1:.3f}', color='red')\n",
    "\n",
    "plt.text(plt.xlim()[1]*0.6, plt.ylim()[1] * 0.45, f'mann-whitney P-value : {res_mannwhitneyu.pvalue:.4f}', color='black')\n",
    "plt.text(plt.xlim()[1]*0.6, plt.ylim()[1] * 0.5, f'permutation P-value: {res_permute.pvalue:.4f}', color='black')\n",
    "plt.text(plt.xlim()[1]*0.6, plt.ylim()[1] * 0.55, f'paired t P-value: {res_ttest.pvalue:.4f}', color='black')\n",
    "\n",
    "\n",
    "plt.xlabel('Death rate differential(2017 - 2013)')\n",
    "plt.ylabel('Frequency')\n",
    "plt.title('Death rate differential grouped by '+ law+'(law)')\n",
    "plt.legend()\n",
    "# plt.savefig(\"res/law_\"+law+\".png\")\n",
    "plt.show()"
   ]
  }
 ],
 "metadata": {
  "kernelspec": {
   "display_name": "legal",
   "language": "python",
   "name": "python3"
  },
  "language_info": {
   "codemirror_mode": {
    "name": "ipython",
    "version": 3
   },
   "file_extension": ".py",
   "mimetype": "text/x-python",
   "name": "python",
   "nbconvert_exporter": "python",
   "pygments_lexer": "ipython3",
   "version": "3.8.19"
  }
 },
 "nbformat": 4,
 "nbformat_minor": 2
}
