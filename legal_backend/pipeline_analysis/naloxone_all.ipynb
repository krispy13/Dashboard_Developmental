{
 "cells": [
  {
   "cell_type": "code",
   "execution_count": 1,
   "metadata": {},
   "outputs": [],
   "source": [
    "from legal_backend.r_to_py.r_to_py import init_R\n",
    "from legal_backend.bartCause.bart_cause import BARTCause\n",
    "from legal_backend.pip_utils import prepare_train_data, rmse, nrmse, r_square, coverage_rate, kfold_indices, prepare_permute_data, statistic\n",
    "\n",
    "import pandas as pd\n",
    "import numpy as np\n",
    "from sklearn import preprocessing\n",
    "\n",
    "from scipy.stats import permutation_test\n",
    "from matplotlib import pyplot as plt\n",
    "from scipy import stats\n",
    "from collections import Counter\n",
    "\n"
   ]
  },
  {
   "cell_type": "code",
   "execution_count": 2,
   "metadata": {},
   "outputs": [],
   "source": [
    "init_R()"
   ]
  },
  {
   "cell_type": "markdown",
   "metadata": {},
   "source": [
    "### Infer Law Effect"
   ]
  },
  {
   "cell_type": "code",
   "execution_count": 3,
   "metadata": {},
   "outputs": [],
   "source": [
    "#load csv files and load possible laws\n",
    "df = pd.read_csv('data/naloxone_all.csv')"
   ]
  },
  {
   "cell_type": "code",
   "execution_count": 4,
   "metadata": {},
   "outputs": [
    {
     "data": {
      "text/plain": [
       "Index(['Percent-of-Population-Under-15-(2013-2017)',\n",
       "       'Percent-of-Population-Aged-15-to-64-(2013-2017)',\n",
       "       'Percent-of-Population-65+-(2013-2017)',\n",
       "       'Percent-of-Population-White-(non-Hispanic)-(2013-2017)',\n",
       "       'Percent-of-Populaiton-Black-(non-Hispanic)-(2013-2017)',\n",
       "       'Percent-of-Population-Hispanic-or-Latino-(2013-2017)',\n",
       "       'Percent-of-Population-Asian-(non-Hispanic)-(2013-2017)',\n",
       "       'Percent-of-Population-Native-American/Alaska-Native-(non-Hispanic)-(2013-2017)',\n",
       "       'Percent-of-Population-Native-Hawaiian/Pacific-Islander-(2013-2017)',\n",
       "       'Percent-of-Population-Aged-25+-who-Have-at-Least-a-High-School-Diploma-(2013-2017)',\n",
       "       'Percent-of-Population-Aged-25+-who-Have-a-Bachelor's-Degree-or-More-(2013-2017)',\n",
       "       'Poverty-Rate-(2013-2017)', 'Median-Household-Income-(2013-2017)',\n",
       "       'Unemployment-Rate-(2013-2017)',\n",
       "       'Percent-of-Residents-with-a-Disability-(Aged-18-64)-(2013-2017)',\n",
       "       'Percent-of-Popualtion-Employed-in-Mining-and-Natural-Resources-(2013-2017)',\n",
       "       'Percent-of-Popualtion-Employed-in-Construction-(2013-2017)',\n",
       "       'Percent-of-Popualtion-Employed-in-Trade-Transportation-and-Utilities-(2013-2017)',\n",
       "       'Number-of-Substance-Use-Facilities-(As-of-March-2023)',\n",
       "       'Number-of-Mental-Health-Facilities-(As-of-March-2023)', 'MDsPerCapita',\n",
       "       'Urbanicity', 'Social-Resilience-Score', 'Economic-Risk-Score',\n",
       "       'Social-Risk-Score', 'Economic-Resilience-Score',\n",
       "       'Prosperity-Index-Score', 'delta_death_rate', 'naaddressoaayn',\n",
       "       'nahealthcrimproyn', 'nanapimm1yn', 'narcimm1yn', 'nahealthcivliayn',\n",
       "       'nanapimm2yn', 'narcimm2yn', 'naloxone-presprof', 'naloxone-dispcrim',\n",
       "       'naloxone-dcrimpro', 'naloxone-dcrimcare', 'naloxone-dispciv',\n",
       "       'naloxone-dcivprog', 'naloxone-dcivcare', 'naloxone-presprof-disp',\n",
       "       'naloxone-thirdparty', 'naloxone-thirdprog', 'naloxone-thirdcare',\n",
       "       'pharmacist-dispensing', 'pharmacist-dispensing-method_Standing order',\n",
       "       'pharmacist-dispensing-method_Protocol order',\n",
       "       'pharmacist-dispensing-method_Naloxone-specific collaborative practice agreement',\n",
       "       'pharmacist-dispensing-method_Pharmacist prescriptive authority',\n",
       "       'pharmacist-dispensing-method_Directly authorized by legislature',\n",
       "       'naimmcrimprolpyn', 'nanapimm3yn', 'narcimm3yn', 'naimmcivlialpyn',\n",
       "       'nanapimm4yn', 'narcimm4yn', 'naloxone-crimpossesion',\n",
       "       'crim-possess-reasonable'],\n",
       "      dtype='object')"
      ]
     },
     "execution_count": 4,
     "metadata": {},
     "output_type": "execute_result"
    }
   ],
   "source": [
    "df.rename(columns={'death-rate-2013-2016':'delta_death_rate'}, inplace=True)\n",
    "df['Urbanicity'] = df['Urbanicity'].map({'Urban':1, 'Rural':0})\n",
    "df.columns"
   ]
  },
  {
   "cell_type": "markdown",
   "metadata": {},
   "source": [
    "###  Patterns"
   ]
  },
  {
   "cell_type": "code",
   "execution_count": 6,
   "metadata": {},
   "outputs": [
    {
     "data": {
      "text/plain": [
       "87.75900541919032"
      ]
     },
     "execution_count": 6,
     "metadata": {},
     "output_type": "execute_result"
    }
   ],
   "source": [
    "from scipy.stats import percentileofscore\n",
    "percentileofscore(df['Percent-of-Population-Under-15-(2013-2017)'], 0.216)"
   ]
  },
  {
   "cell_type": "code",
   "execution_count": 5,
   "metadata": {},
   "outputs": [
    {
     "data": {
      "text/plain": [
       "\"df_sub['MDsPerCapita']>9.17\""
      ]
     },
     "execution_count": 5,
     "metadata": {},
     "output_type": "execute_result"
    }
   ],
   "source": [
    "df_sub = df.copy(deep=True)\n",
    "\"df_sub['Urbanicity']==1\"\n",
    "\"df_sub['Percent-of-Population-Under-15-(2013-2017)']>0.216\"\n",
    "\"df_sub['Percent-of-Popualtion-Employed-in-Mining-and-Natural-Resources-(2013-2017)']<0.009\"\n",
    "\"df_sub['Unemployment-Rate-(2013-2017)']<0.048\"\n",
    "# df_sub = df_sub[df_sub['Percent-of-Population-Aged-25+-who-Have-a-Bachelor\\'s-Degree-or-More-(2013-2017)']>0.221].reset_index(drop=True)\n",
    "# df_sub = df_sub[df_sub['Percent-of-Residents-with-a-Disability-(Aged-18-64)-(2013-2017)']<0.116].reset_index(drop=True)\n",
    "\"df_sub['Percent-of-Population-Aged-15-to-64-(2013-2017)']>0.631\"\n",
    "\"df_sub['Percent-of-Population-Native-Hawaiian/Pacific-Islander-(2013-2017)']<0.001\"\n",
    "\"df_sub['Number-of-Mental-Health-Facilities-(As-of-March-2023)']>2\"\n",
    "\"df_sub['Economic-Risk-Score']==2\"\n",
    "\"df_sub['Percent-of-Population-Native-American/Alaska-Native-(non-Hispanic)-(2013-2017)']<0.002\"\n",
    "\"df_sub['Percent-of-Populaiton-Black-(non-Hispanic)-(2013-2017)']<0.004\"\n",
    "\"df_sub['Number-of-Substance-Use-Facilities-(As-of-March-2023)']>2\"\n",
    "\"df_sub['MDsPerCapita']>9.17\""
   ]
  },
  {
   "cell_type": "code",
   "execution_count": 6,
   "metadata": {},
   "outputs": [],
   "source": [
    "conds = []\n",
    "# conds.append(\"df_sub['Percent-of-Population-Under-15-(2013-2017)']>0.216\")\n",
    "# conds.append(\"df_sub['Number-of-Mental-Health-Facilities-(As-of-March-2023)']==0\")\n",
    "for cond in conds:\n",
    "    df_sub = df_sub.loc[eval(cond)].reset_index(drop=True)\n",
    "law = 'naloxone-dcrimpro'"
   ]
  },
  {
   "cell_type": "code",
   "execution_count": null,
   "metadata": {},
   "outputs": [],
   "source": [
    "print(law)\n",
    "print(df_sub.shape[0])\n",
    "df_sub.head()"
   ]
  },
  {
   "cell_type": "code",
   "execution_count": null,
   "metadata": {},
   "outputs": [],
   "source": [
    "print(Counter(df_sub[law]))\n",
    "num_instances = list(Counter(df_sub[law]).values())\n",
    "imbalance_ratio = min(num_instances) / max(num_instances)\n",
    "print(\"Imbalanced Data Detected! Imbalnce Ratio:\", imbalance_ratio) if (imbalance_ratio < 0.1) else None"
   ]
  },
  {
   "cell_type": "code",
   "execution_count": 9,
   "metadata": {},
   "outputs": [],
   "source": [
    "X_train_scaled, y_train, Z_train, X_test_scaled, y_test, Z_test = prepare_train_data(df_sub, law)"
   ]
  },
  {
   "cell_type": "code",
   "execution_count": 10,
   "metadata": {},
   "outputs": [],
   "source": [
    "bart_eval = BARTCause()\n",
    "bart_eval.fit(X_train_scaled, y_train, Z_train, n_samples=1000,  n_burn=200,  n_chains=5)"
   ]
  },
  {
   "cell_type": "code",
   "execution_count": 11,
   "metadata": {},
   "outputs": [],
   "source": [
    "# evaluate BART fit on response surface\n",
    "newData = np.concatenate((X_test_scaled, Z_test), axis=1)\n",
    "\n",
    "y_test_predicted_, y_test_predicted_lb, y_test_predicted_ub = bart_eval.predict(newData, infer_type=\"mu\")\n",
    "\n",
    "# y_test_predicted_ = bart_eval.predict(newData, infer_type=\"mu\")\n",
    "y_test_predicted = y_test_predicted_[:,np.newaxis]\n",
    "y_test_predicted_lb = y_test_predicted_lb[:,np.newaxis]\n",
    "y_test_predicted_ub = y_test_predicted_ub[:,np.newaxis]"
   ]
  },
  {
   "cell_type": "code",
   "execution_count": null,
   "metadata": {},
   "outputs": [],
   "source": [
    "print(\"quantile(0.05-0.95): [\",np.quantile(y_test, 0.05),\",\", np.quantile(y_test, 0.95),\"]\")\n",
    "print(\"BART RMS:\", rmse(y_test,y_test_predicted),\"\\n\", \"Baseline RMS:\", rmse(y_test,y_test.mean()))\n",
    "print(\"r square:\", r_square(y_test,y_test_predicted), \"\\n\", \"nrmse:\", nrmse(y_test, y_test_predicted, 'range'))\n",
    "print(\"coverage rate:\", coverage_rate(y_test, y_test_predicted_lb, y_test_predicted_ub))"
   ]
  },
  {
   "cell_type": "code",
   "execution_count": null,
   "metadata": {},
   "outputs": [],
   "source": [
    "print(\"quantile(0.05-0.95): [ 14.269335210845675 , 95.50718896415907 ]\\\n",
    "\\nBART RMS: 25.479997484129242 \\\n",
    " \\nBaseline RMS: 30.39340301528534\\\n",
    "\\nr square: 0.29718648571101025 \\\n",
    " \\nnrmse: 0.09002331146516601\\\n",
    "\\ncoverage rate: 0.6560509554140127\")"
   ]
  },
  {
   "cell_type": "markdown",
   "metadata": {},
   "source": [
    "#### K-fold Cross Validation"
   ]
  },
  {
   "cell_type": "code",
   "execution_count": 14,
   "metadata": {},
   "outputs": [],
   "source": [
    "fold_indices = kfold_indices(df_sub, 5)"
   ]
  },
  {
   "cell_type": "code",
   "execution_count": 15,
   "metadata": {},
   "outputs": [],
   "source": [
    "def cross_validation_test(df, law, fold_indices):\n",
    "    bartCause = BARTCause()\n",
    "    \n",
    "    X_df = df.iloc[:, :27].to_numpy()\n",
    "    M = X_df.shape[1] \n",
    "\n",
    "    y = df[['delta_death_rate']].to_numpy()\n",
    "    Z_law = df[[law]].to_numpy()\n",
    "    # numerical columns\n",
    "    num_cols = [c for c in range(M) if len(np.unique(X_df[:, c])) > 2] \n",
    "\n",
    "    scores = []\n",
    "\n",
    "    for fold, (train_indices, test_indices) in enumerate(fold_indices):\n",
    "        print(\"fold:\",fold)\n",
    "        X_train, y_train, Z_train = X_df[train_indices,:], y[train_indices,:], Z_law[train_indices,:]\n",
    "        X_test, y_test, Z_test = X_df[test_indices,:], y[test_indices,:], Z_law[test_indices,:]\n",
    "\n",
    "        # standardize data\n",
    "        scaler_ = preprocessing.StandardScaler().fit(X_train[:,num_cols])\n",
    "        X_train_scaled = np.copy(X_train)\n",
    "        X_train_scaled[:,num_cols] = scaler_.transform(X_train[:,num_cols])\n",
    "\n",
    "        X_test_scaled = np.copy(X_test)\n",
    "        X_test_scaled[:,num_cols] = scaler_.transform(X_test[:,num_cols])\n",
    "        \n",
    "        # Train the model on the training data\n",
    "        bartCause.fit(X_train_scaled, y_train, Z_train, n_samples=1000,  n_burn=200,  n_chains=5)\n",
    "\n",
    "        # Make predictions on the test data\n",
    "        test_data = np.concatenate((X_test_scaled, Z_test), axis=1)\n",
    "        y_test_pred_, _, _ = bartCause.predict(test_data, infer_type=\"mu\")\n",
    "        y_test_pred = y_test_pred_[:,np.newaxis]\n",
    "        \n",
    "        # Calculate the accuracy score for this fold\n",
    "        fold_score = nrmse(y_test, y_test_pred, 'range')\n",
    "        \n",
    "        # Append the fold score to the list of scores\n",
    "        scores.append(fold_score)\n",
    "\n",
    "    # Calculate the mean accuracy across all folds\n",
    "    mean_score = np.mean(scores)\n",
    "\n",
    "    return scores, mean_score"
   ]
  },
  {
   "cell_type": "code",
   "execution_count": null,
   "metadata": {},
   "outputs": [],
   "source": [
    "scores, mean_score = cross_validation_test(df_sub, law, fold_indices)\n",
    "print(\"K-Fold Cross-Validation Scores:\", scores)\n",
    "print(\"Mean Score:\", mean_score)"
   ]
  },
  {
   "cell_type": "markdown",
   "metadata": {},
   "source": [
    "#### Permutation Test"
   ]
  },
  {
   "cell_type": "code",
   "execution_count": 39,
   "metadata": {},
   "outputs": [],
   "source": [
    "bartCause = BARTCause()\n",
    "X_scaled, y, Z_law = prepare_permute_data(df_sub, law)\n",
    "bartCause.fit(X_scaled, y, Z_law, n_samples=1000,  n_burn=200,  n_chains=5)"
   ]
  },
  {
   "cell_type": "code",
   "execution_count": null,
   "metadata": {},
   "outputs": [],
   "source": [
    "# evaluate BART fit on response surface\n",
    "newData = np.concatenate((X_scaled, Z_law), axis=1)\n",
    "\n",
    "predicted_Z1, _, _ = bartCause.predict(newData, infer_type=\"mu.1\")\n",
    "predicted_Z0, _, _ = bartCause.predict(newData, infer_type=\"mu.0\")\n",
    "# predicted_Z1 = predicted_Z1_[:,np.newaxis]\n",
    "# predicted_Z0 = predicted_Z0_[:,np.newaxis]\n",
    "mean_law0 = predicted_Z0.mean()\n",
    "mean_law1 = predicted_Z1.mean()\n",
    "avg_ite = (predicted_Z1 - predicted_Z0).mean()\n",
    "std_ite = (predicted_Z1 - predicted_Z0).std()\n",
    "print(\"Avg ITE:\", avg_ite,\"Stdev ITE:\",std_ite)"
   ]
  },
  {
   "cell_type": "markdown",
   "metadata": {},
   "source": [
    "#### Permutation test"
   ]
  },
  {
   "cell_type": "code",
   "execution_count": null,
   "metadata": {},
   "outputs": [],
   "source": [
    "res_permute = permutation_test((predicted_Z0, predicted_Z1), statistic, alternative='greater')\n",
    "res_permute"
   ]
  },
  {
   "cell_type": "markdown",
   "metadata": {},
   "source": [
    "#### Paired Samples t-Test (Dependent Samples t-Test)"
   ]
  },
  {
   "cell_type": "code",
   "execution_count": null,
   "metadata": {},
   "outputs": [],
   "source": [
    "res_ttest = stats.ttest_rel(predicted_Z0, predicted_Z1, alternative='greater')\n",
    "res_ttest"
   ]
  },
  {
   "cell_type": "markdown",
   "metadata": {},
   "source": [
    "#### Mann-Whitney U Test / Wilcoxon Rank-Sum Test (No normal distribution assumption)"
   ]
  },
  {
   "cell_type": "code",
   "execution_count": null,
   "metadata": {},
   "outputs": [],
   "source": [
    "res_mannwhitneyu = stats.mannwhitneyu(predicted_Z0, predicted_Z1, alternative='greater')\n",
    "res_mannwhitneyu"
   ]
  },
  {
   "cell_type": "code",
   "execution_count": null,
   "metadata": {},
   "outputs": [],
   "source": [
    "\n",
    "plt.figure(figsize=(10, 6))\n",
    "plt.hist(predicted_Z0, bins=30, alpha=0.5, label='Law Inactive')\n",
    "plt.hist(predicted_Z1, bins=30, alpha=0.5, label='Law Active')\n",
    "\n",
    "plt.axvline(mean_law0, color='blue', linestyle='dashed', linewidth=1)\n",
    "plt.text(mean_law0 + 2, plt.ylim()[1] * 0.6, f'Inactive Mean: {mean_law0:.3f}', color='darkblue')\n",
    "plt.axvline(mean_law1, color='red', linestyle='dashed', linewidth=1)\n",
    "plt.text(mean_law1 + 2, plt.ylim()[1] * 0.4, f'Active Mean: {mean_law1:.3f}', color='red')\n",
    "\n",
    "plt.text(plt.xlim()[1]*0.6, plt.ylim()[1] * 0.45, f'mann-whitney P-value : {res_mannwhitneyu.pvalue:.4f}', color='black')\n",
    "plt.text(plt.xlim()[1]*0.6, plt.ylim()[1] * 0.5, f'permutation P-value: {res_permute.pvalue:.4f}', color='black')\n",
    "plt.text(plt.xlim()[1]*0.6, plt.ylim()[1] * 0.55, f'paired t P-value: {res_ttest.pvalue:.4f}', color='black')\n",
    "plt.text(plt.xlim()[1]*0.6, plt.ylim()[1] * 0.38, f'Avg ITE: {avg_ite:.2f} Stdev ITE:{std_ite:.2f}', color='black', fontsize=10)\n",
    "\n",
    "if len(conds) > 0:\n",
    "    for i,cond in enumerate(conds):\n",
    "        cond_text = cond[6:] \n",
    "        plt.text(plt.xlim()[1]*0.6, plt.ylim()[1] * -0.15 -3.5 * i, cond_text, color='black')\n",
    "\n",
    "\n",
    "plt.xlabel('Death rate differential(2017 - 2013)')\n",
    "plt.ylabel('Frequency')\n",
    "plt.title('Death rate differential grouped by '+ law+'(law)')\n",
    "plt.legend()\n",
    "plt.savefig(\"demo_res/sub_law_\"+law+\".png\")\n",
    "plt.show()"
   ]
  }
 ],
 "metadata": {
  "kernelspec": {
   "display_name": "legal",
   "language": "python",
   "name": "python3"
  },
  "language_info": {
   "codemirror_mode": {
    "name": "ipython",
    "version": 3
   },
   "file_extension": ".py",
   "mimetype": "text/x-python",
   "name": "python",
   "nbconvert_exporter": "python",
   "pygments_lexer": "ipython3",
   "version": "3.8.19"
  }
 },
 "nbformat": 4,
 "nbformat_minor": 2
}
