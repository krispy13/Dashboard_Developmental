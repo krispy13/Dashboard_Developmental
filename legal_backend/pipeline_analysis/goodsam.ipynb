{
 "cells": [
  {
   "cell_type": "code",
   "execution_count": 1,
   "metadata": {},
   "outputs": [],
   "source": [
    "from legal_backend.r_to_py.r_to_py import init_R\n",
    "from legal_backend.bartCause.bart_cause import BARTCause\n",
    "import pandas as pd\n",
    "import numpy as np\n",
    "\n",
    "from sklearn.model_selection import train_test_split\n",
    "from sklearn import preprocessing\n",
    "from scipy.stats import permutation_test\n",
    "from matplotlib import pyplot as plt\n",
    "from scipy import stats\n",
    "from sklearn.decomposition import PCA"
   ]
  },
  {
   "cell_type": "code",
   "execution_count": 2,
   "metadata": {},
   "outputs": [],
   "source": [
    "init_R()"
   ]
  },
  {
   "cell_type": "markdown",
   "metadata": {},
   "source": [
    "### Infer Law Effect"
   ]
  },
  {
   "cell_type": "code",
   "execution_count": 3,
   "metadata": {},
   "outputs": [],
   "source": [
    "#load csv files and load possible laws\n",
    "df = pd.read_csv('data/goodsam_clean.csv')"
   ]
  },
  {
   "cell_type": "code",
   "execution_count": 4,
   "metadata": {},
   "outputs": [],
   "source": [
    "df.rename(columns={'death-rate-2013-2016':'delta_death_rate'}, inplace=True)"
   ]
  },
  {
   "cell_type": "code",
   "execution_count": 5,
   "metadata": {},
   "outputs": [],
   "source": [
    "df['Urbanicity'] = df['Urbanicity'].map({'Urban':1, 'Rural':0})"
   ]
  },
  {
   "cell_type": "code",
   "execution_count": 6,
   "metadata": {},
   "outputs": [
    {
     "data": {
      "text/plain": [
       "Index(['Percent-of-Population-Under-15-(2013-2017)',\n",
       "       'Percent-of-Population-Aged-15-to-64-(2013-2017)',\n",
       "       'Percent-of-Population-65+-(2013-2017)',\n",
       "       'Percent-of-Population-White-(non-Hispanic)-(2013-2017)',\n",
       "       'Percent-of-Populaiton-Black-(non-Hispanic)-(2013-2017)',\n",
       "       'Percent-of-Population-Hispanic-or-Latino-(2013-2017)',\n",
       "       'Percent-of-Population-Asian-(non-Hispanic)-(2013-2017)',\n",
       "       'Percent-of-Population-Native-American/Alaska-Native-(non-Hispanic)-(2013-2017)',\n",
       "       'Percent-of-Population-Native-Hawaiian/Pacific-Islander-(2013-2017)',\n",
       "       'Percent-of-Population-Aged-25+-who-Have-at-Least-a-High-School-Diploma-(2013-2017)',\n",
       "       'Percent-of-Population-Aged-25+-who-Have-a-Bachelor's-Degree-or-More-(2013-2017)',\n",
       "       'Poverty-Rate-(2013-2017)', 'Median-Household-Income-(2013-2017)',\n",
       "       'Unemployment-Rate-(2013-2017)',\n",
       "       'Percent-of-Residents-with-a-Disability-(Aged-18-64)-(2013-2017)',\n",
       "       'Percent-of-Popualtion-Employed-in-Mining-and-Natural-Resources-(2013-2017)',\n",
       "       'Percent-of-Popualtion-Employed-in-Construction-(2013-2017)',\n",
       "       'Percent-of-Popualtion-Employed-in-Trade-Transportation-and-Utilities-(2013-2017)',\n",
       "       'Number-of-Substance-Use-Facilities-(As-of-March-2023)',\n",
       "       'Number-of-Mental-Health-Facilities-(As-of-March-2023)', 'MDsPerCapita',\n",
       "       'Urbanicity', 'Social-Resilience-Score', 'Economic-Risk-Score',\n",
       "       'Social-Risk-Score', 'Economic-Resilience-Score',\n",
       "       'Prosperity-Index-Score', 'delta_death_rate', 'goodsam-law',\n",
       "       'goodsam-cs_Arrest', 'goodsam-cs_Charge', 'goodsam-cs_Prosecution',\n",
       "       'goodsam-cs_Law provides an affirmative defense', 'goodsam-cs_None',\n",
       "       'goodsam-paraphernalia_Arrest', 'goodsam-paraphernalia_Charge',\n",
       "       'goodsam-paraphernalia_Prosecution',\n",
       "       'goodsam-paraphernalia_Law provides an affirmative defense',\n",
       "       'goodsam-paraphernalia_None', 'goodsam-paroleyn',\n",
       "       'goodsam-parole_Protection from arrest',\n",
       "       'goodsam-parole_Protection from charge',\n",
       "       'goodsam-parole_Protection from prosecution',\n",
       "       'goodsam-parole_Protection from revocation of probation and/or parole',\n",
       "       'goodsam-parole_General protection from sanctions for violation of probation and/or parole',\n",
       "       'goodsam-mitigation', 'goodsam-mit-type_Controlled substances offenses',\n",
       "       'goodsam-mit-type_Alcohol-related offenses',\n",
       "       'goodsam-mit-type_Other offenses beyond controlled substances and alcohol-related violations'],\n",
       "      dtype='object')"
      ]
     },
     "execution_count": 6,
     "metadata": {},
     "output_type": "execute_result"
    }
   ],
   "source": [
    "df.columns"
   ]
  },
  {
   "cell_type": "markdown",
   "metadata": {},
   "source": [
    "### Negative Patterns"
   ]
  },
  {
   "cell_type": "code",
   "execution_count": 132,
   "metadata": {},
   "outputs": [],
   "source": [
    "# df_sub = df[df['Percent-of-Population-Under-15-(2013-2017)']>0.202].reset_index(drop=True)\n",
    "# df_sub = df_sub[df_sub['Percent-of-Popualtion-Employed-in-Mining-and-Natural-Resources-(2013-2017)']>0.019].reset_index(drop=True)\n",
    "# df_sub = df[df['Percent-of-Population-Under-15-(2013-2017)']>0.202].reset_index(drop=True)\n",
    "# law = 'naloxone-thirdcare'"
   ]
  },
  {
   "cell_type": "code",
   "execution_count": 30,
   "metadata": {},
   "outputs": [],
   "source": [
    "# df_sub = df[df['Percent-of-Residents-with-a-Disability-(Aged-18-64)-(2013-2017)']<0.116].reset_index(drop=True)\n",
    "# df_sub = df[df['Percent-of-Population-Native-Hawaiian/Pacific-Islander-(2013-2017)']>0.001].reset_index(drop=True)\n",
    "# df_sub = df[df['Percent-of-Population-Aged-25+-who-Have-a-Bachelor\\'s-Degree-or-More-(2013-2017)']>0.221].reset_index(drop=True)\n",
    "# df_sub = df_sub[df_sub['Economic-Risk-Score']==3].reset_index(drop=True)\n",
    "# law = 'reportable-drugs_Federal Schedule I'"
   ]
  },
  {
   "cell_type": "code",
   "execution_count": 7,
   "metadata": {},
   "outputs": [],
   "source": [
    "df_sub = df[df['Percent-of-Population-Native-Hawaiian/Pacific-Islander-(2013-2017)']>0.001].reset_index(drop=True)\n",
    "df_sub = df_sub[df_sub['MDsPerCapita']<9.075].reset_index(drop=True)\n",
    "law = 'goodsam-paraphernalia_Arrest'"
   ]
  },
  {
   "cell_type": "code",
   "execution_count": null,
   "metadata": {},
   "outputs": [],
   "source": [
    "# df_sub = df[df['poverty_rate_(2013_2017)']<0.102].reset_index(drop=True)\n",
    "# law = 'PDMP_any'"
   ]
  },
  {
   "cell_type": "code",
   "execution_count": null,
   "metadata": {},
   "outputs": [],
   "source": [
    "# df_sub = df[df['median_household_income_(2013_2017)']<52314].reset_index(drop=True)\n",
    "# df_sub = df_sub[df_sub['percent_of_population_hispanic_or_latino_(2013_2017)']>0.05].reset_index(drop=True)\n",
    "# df_sub = df_sub[df_sub['percent_of_population_hispanic_or_latino_(2013_2017)']<0.139].reset_index(drop=True)"
   ]
  },
  {
   "cell_type": "code",
   "execution_count": null,
   "metadata": {},
   "outputs": [],
   "source": [
    "# df_sub = df[df['percent_of_populaiton_black_(non_hispanic)_(2013_2017)']>0.03].reset_index(drop=True)\n",
    "# df_sub = df_sub[df_sub['percent_of_population_hispanic_or_latino_(2013_2017)']>0.05].reset_index(drop=True)\n",
    "# df_sub = df_sub[df_sub['percent_of_population_hispanic_or_latino_(2013_2017)']<0.139].reset_index(drop=True)\n",
    "# law = 'PDMP_leowhenActive investigations'"
   ]
  },
  {
   "cell_type": "code",
   "execution_count": 8,
   "metadata": {},
   "outputs": [
    {
     "name": "stdout",
     "output_type": "stream",
     "text": [
      "goodsam-paraphernalia_Arrest\n",
      "115\n"
     ]
    },
    {
     "data": {
      "text/html": [
       "<div>\n",
       "<style scoped>\n",
       "    .dataframe tbody tr th:only-of-type {\n",
       "        vertical-align: middle;\n",
       "    }\n",
       "\n",
       "    .dataframe tbody tr th {\n",
       "        vertical-align: top;\n",
       "    }\n",
       "\n",
       "    .dataframe thead th {\n",
       "        text-align: right;\n",
       "    }\n",
       "</style>\n",
       "<table border=\"1\" class=\"dataframe\">\n",
       "  <thead>\n",
       "    <tr style=\"text-align: right;\">\n",
       "      <th></th>\n",
       "      <th>Percent-of-Population-Under-15-(2013-2017)</th>\n",
       "      <th>Percent-of-Population-Aged-15-to-64-(2013-2017)</th>\n",
       "      <th>Percent-of-Population-65+-(2013-2017)</th>\n",
       "      <th>Percent-of-Population-White-(non-Hispanic)-(2013-2017)</th>\n",
       "      <th>Percent-of-Populaiton-Black-(non-Hispanic)-(2013-2017)</th>\n",
       "      <th>Percent-of-Population-Hispanic-or-Latino-(2013-2017)</th>\n",
       "      <th>Percent-of-Population-Asian-(non-Hispanic)-(2013-2017)</th>\n",
       "      <th>Percent-of-Population-Native-American/Alaska-Native-(non-Hispanic)-(2013-2017)</th>\n",
       "      <th>Percent-of-Population-Native-Hawaiian/Pacific-Islander-(2013-2017)</th>\n",
       "      <th>Percent-of-Population-Aged-25+-who-Have-at-Least-a-High-School-Diploma-(2013-2017)</th>\n",
       "      <th>...</th>\n",
       "      <th>goodsam-paroleyn</th>\n",
       "      <th>goodsam-parole_Protection from arrest</th>\n",
       "      <th>goodsam-parole_Protection from charge</th>\n",
       "      <th>goodsam-parole_Protection from prosecution</th>\n",
       "      <th>goodsam-parole_Protection from revocation of probation and/or parole</th>\n",
       "      <th>goodsam-parole_General protection from sanctions for violation of probation and/or parole</th>\n",
       "      <th>goodsam-mitigation</th>\n",
       "      <th>goodsam-mit-type_Controlled substances offenses</th>\n",
       "      <th>goodsam-mit-type_Alcohol-related offenses</th>\n",
       "      <th>goodsam-mit-type_Other offenses beyond controlled substances and alcohol-related violations</th>\n",
       "    </tr>\n",
       "  </thead>\n",
       "  <tbody>\n",
       "    <tr>\n",
       "      <th>0</th>\n",
       "      <td>0.2120</td>\n",
       "      <td>0.6619</td>\n",
       "      <td>0.1260</td>\n",
       "      <td>0.4872</td>\n",
       "      <td>0.4202</td>\n",
       "      <td>0.0507</td>\n",
       "      <td>0.0068</td>\n",
       "      <td>0.0037</td>\n",
       "      <td>0.0022</td>\n",
       "      <td>0.8256</td>\n",
       "      <td>...</td>\n",
       "      <td>1.0</td>\n",
       "      <td>0.0</td>\n",
       "      <td>0.0</td>\n",
       "      <td>0.0</td>\n",
       "      <td>0.0</td>\n",
       "      <td>0.0</td>\n",
       "      <td>0.0</td>\n",
       "      <td>0.0</td>\n",
       "      <td>0.0</td>\n",
       "      <td>0.0</td>\n",
       "    </tr>\n",
       "    <tr>\n",
       "      <th>1</th>\n",
       "      <td>0.2038</td>\n",
       "      <td>0.6140</td>\n",
       "      <td>0.1823</td>\n",
       "      <td>0.5789</td>\n",
       "      <td>0.0433</td>\n",
       "      <td>0.2919</td>\n",
       "      <td>0.0166</td>\n",
       "      <td>0.0461</td>\n",
       "      <td>0.0033</td>\n",
       "      <td>0.8492</td>\n",
       "      <td>...</td>\n",
       "      <td>0.0</td>\n",
       "      <td>0.0</td>\n",
       "      <td>0.0</td>\n",
       "      <td>0.0</td>\n",
       "      <td>0.0</td>\n",
       "      <td>0.0</td>\n",
       "      <td>0.0</td>\n",
       "      <td>0.0</td>\n",
       "      <td>0.0</td>\n",
       "      <td>0.0</td>\n",
       "    </tr>\n",
       "    <tr>\n",
       "      <th>2</th>\n",
       "      <td>0.2180</td>\n",
       "      <td>0.6081</td>\n",
       "      <td>0.1739</td>\n",
       "      <td>0.3275</td>\n",
       "      <td>0.0180</td>\n",
       "      <td>0.6197</td>\n",
       "      <td>0.0115</td>\n",
       "      <td>0.0088</td>\n",
       "      <td>0.0013</td>\n",
       "      <td>0.7172</td>\n",
       "      <td>...</td>\n",
       "      <td>0.0</td>\n",
       "      <td>0.0</td>\n",
       "      <td>0.0</td>\n",
       "      <td>0.0</td>\n",
       "      <td>0.0</td>\n",
       "      <td>0.0</td>\n",
       "      <td>0.0</td>\n",
       "      <td>0.0</td>\n",
       "      <td>0.0</td>\n",
       "      <td>0.0</td>\n",
       "    </tr>\n",
       "    <tr>\n",
       "      <th>3</th>\n",
       "      <td>0.2283</td>\n",
       "      <td>0.6439</td>\n",
       "      <td>0.1278</td>\n",
       "      <td>0.7474</td>\n",
       "      <td>0.0143</td>\n",
       "      <td>0.1607</td>\n",
       "      <td>0.0352</td>\n",
       "      <td>0.0130</td>\n",
       "      <td>0.0043</td>\n",
       "      <td>0.8723</td>\n",
       "      <td>...</td>\n",
       "      <td>0.0</td>\n",
       "      <td>0.0</td>\n",
       "      <td>0.0</td>\n",
       "      <td>0.0</td>\n",
       "      <td>0.0</td>\n",
       "      <td>1.0</td>\n",
       "      <td>0.0</td>\n",
       "      <td>0.0</td>\n",
       "      <td>0.0</td>\n",
       "      <td>0.0</td>\n",
       "    </tr>\n",
       "    <tr>\n",
       "      <th>4</th>\n",
       "      <td>0.2336</td>\n",
       "      <td>0.6441</td>\n",
       "      <td>0.1223</td>\n",
       "      <td>0.4365</td>\n",
       "      <td>0.5056</td>\n",
       "      <td>0.0232</td>\n",
       "      <td>0.0065</td>\n",
       "      <td>0.0017</td>\n",
       "      <td>0.0015</td>\n",
       "      <td>0.8177</td>\n",
       "      <td>...</td>\n",
       "      <td>0.0</td>\n",
       "      <td>0.0</td>\n",
       "      <td>0.0</td>\n",
       "      <td>0.0</td>\n",
       "      <td>0.0</td>\n",
       "      <td>1.0</td>\n",
       "      <td>0.0</td>\n",
       "      <td>0.0</td>\n",
       "      <td>0.0</td>\n",
       "      <td>0.0</td>\n",
       "    </tr>\n",
       "  </tbody>\n",
       "</table>\n",
       "<p>5 rows × 49 columns</p>\n",
       "</div>"
      ],
      "text/plain": [
       "   Percent-of-Population-Under-15-(2013-2017)  \\\n",
       "0                                      0.2120   \n",
       "1                                      0.2038   \n",
       "2                                      0.2180   \n",
       "3                                      0.2283   \n",
       "4                                      0.2336   \n",
       "\n",
       "   Percent-of-Population-Aged-15-to-64-(2013-2017)  \\\n",
       "0                                           0.6619   \n",
       "1                                           0.6140   \n",
       "2                                           0.6081   \n",
       "3                                           0.6439   \n",
       "4                                           0.6441   \n",
       "\n",
       "   Percent-of-Population-65+-(2013-2017)  \\\n",
       "0                                 0.1260   \n",
       "1                                 0.1823   \n",
       "2                                 0.1739   \n",
       "3                                 0.1278   \n",
       "4                                 0.1223   \n",
       "\n",
       "   Percent-of-Population-White-(non-Hispanic)-(2013-2017)  \\\n",
       "0                                             0.4872        \n",
       "1                                             0.5789        \n",
       "2                                             0.3275        \n",
       "3                                             0.7474        \n",
       "4                                             0.4365        \n",
       "\n",
       "   Percent-of-Populaiton-Black-(non-Hispanic)-(2013-2017)  \\\n",
       "0                                             0.4202        \n",
       "1                                             0.0433        \n",
       "2                                             0.0180        \n",
       "3                                             0.0143        \n",
       "4                                             0.5056        \n",
       "\n",
       "   Percent-of-Population-Hispanic-or-Latino-(2013-2017)  \\\n",
       "0                                             0.0507      \n",
       "1                                             0.2919      \n",
       "2                                             0.6197      \n",
       "3                                             0.1607      \n",
       "4                                             0.0232      \n",
       "\n",
       "   Percent-of-Population-Asian-(non-Hispanic)-(2013-2017)  \\\n",
       "0                                             0.0068        \n",
       "1                                             0.0166        \n",
       "2                                             0.0115        \n",
       "3                                             0.0352        \n",
       "4                                             0.0065        \n",
       "\n",
       "   Percent-of-Population-Native-American/Alaska-Native-(non-Hispanic)-(2013-2017)  \\\n",
       "0                                             0.0037                                \n",
       "1                                             0.0461                                \n",
       "2                                             0.0088                                \n",
       "3                                             0.0130                                \n",
       "4                                             0.0017                                \n",
       "\n",
       "   Percent-of-Population-Native-Hawaiian/Pacific-Islander-(2013-2017)  \\\n",
       "0                                             0.0022                    \n",
       "1                                             0.0033                    \n",
       "2                                             0.0013                    \n",
       "3                                             0.0043                    \n",
       "4                                             0.0015                    \n",
       "\n",
       "   Percent-of-Population-Aged-25+-who-Have-at-Least-a-High-School-Diploma-(2013-2017)  \\\n",
       "0                                             0.8256                                    \n",
       "1                                             0.8492                                    \n",
       "2                                             0.7172                                    \n",
       "3                                             0.8723                                    \n",
       "4                                             0.8177                                    \n",
       "\n",
       "   ...  goodsam-paroleyn  goodsam-parole_Protection from arrest  \\\n",
       "0  ...               1.0                                    0.0   \n",
       "1  ...               0.0                                    0.0   \n",
       "2  ...               0.0                                    0.0   \n",
       "3  ...               0.0                                    0.0   \n",
       "4  ...               0.0                                    0.0   \n",
       "\n",
       "   goodsam-parole_Protection from charge  \\\n",
       "0                                    0.0   \n",
       "1                                    0.0   \n",
       "2                                    0.0   \n",
       "3                                    0.0   \n",
       "4                                    0.0   \n",
       "\n",
       "   goodsam-parole_Protection from prosecution  \\\n",
       "0                                         0.0   \n",
       "1                                         0.0   \n",
       "2                                         0.0   \n",
       "3                                         0.0   \n",
       "4                                         0.0   \n",
       "\n",
       "   goodsam-parole_Protection from revocation of probation and/or parole  \\\n",
       "0                                                0.0                      \n",
       "1                                                0.0                      \n",
       "2                                                0.0                      \n",
       "3                                                0.0                      \n",
       "4                                                0.0                      \n",
       "\n",
       "   goodsam-parole_General protection from sanctions for violation of probation and/or parole  \\\n",
       "0                                                0.0                                           \n",
       "1                                                0.0                                           \n",
       "2                                                0.0                                           \n",
       "3                                                1.0                                           \n",
       "4                                                1.0                                           \n",
       "\n",
       "   goodsam-mitigation  goodsam-mit-type_Controlled substances offenses  \\\n",
       "0                 0.0                                              0.0   \n",
       "1                 0.0                                              0.0   \n",
       "2                 0.0                                              0.0   \n",
       "3                 0.0                                              0.0   \n",
       "4                 0.0                                              0.0   \n",
       "\n",
       "   goodsam-mit-type_Alcohol-related offenses  \\\n",
       "0                                        0.0   \n",
       "1                                        0.0   \n",
       "2                                        0.0   \n",
       "3                                        0.0   \n",
       "4                                        0.0   \n",
       "\n",
       "   goodsam-mit-type_Other offenses beyond controlled substances and alcohol-related violations  \n",
       "0                                                0.0                                            \n",
       "1                                                0.0                                            \n",
       "2                                                0.0                                            \n",
       "3                                                0.0                                            \n",
       "4                                                0.0                                            \n",
       "\n",
       "[5 rows x 49 columns]"
      ]
     },
     "execution_count": 8,
     "metadata": {},
     "output_type": "execute_result"
    }
   ],
   "source": [
    "print(law)\n",
    "print(df_sub.shape[0])\n",
    "df_sub.head()"
   ]
  },
  {
   "cell_type": "code",
   "execution_count": 9,
   "metadata": {},
   "outputs": [],
   "source": [
    "# construct train test data \n",
    "def prepare_train_data(df, law):\n",
    "    train_idxs, test_idxs = train_test_split(list(df.index), test_size=0.2, random_state=1)\n",
    "\n",
    "    X_df = df.iloc[:, :27].to_numpy()\n",
    "    M = X_df.shape[1] \n",
    "\n",
    "    y = df[['delta_death_rate']].to_numpy()\n",
    "    Z_law = df[[law]].to_numpy()\n",
    "    # numerical columns\n",
    "    num_cols = [c for c in range(M) if len(np.unique(X_df[:, c])) > 2] \n",
    "\n",
    "\n",
    "    X_train = X_df[train_idxs,:]\n",
    "    X_test = X_df[test_idxs,:]\n",
    "\n",
    "    y_train = y[train_idxs,:]\n",
    "    y_test= y[test_idxs,:]\n",
    "\n",
    "    Z_train = Z_law[train_idxs,:]\n",
    "    Z_test= Z_law[test_idxs,:]\n",
    "\n",
    "    # standardize data\n",
    "    scaler_ = preprocessing.StandardScaler().fit(X_train[:,num_cols])\n",
    "    X_train_scaled = np.copy(X_train)\n",
    "    X_train_scaled[:,num_cols] = scaler_.transform(X_train[:,num_cols])\n",
    "\n",
    "    X_test_scaled = np.copy(X_test)\n",
    "    X_test_scaled[:,num_cols] = scaler_.transform(X_test[:,num_cols])\n",
    "    return X_train_scaled, y_train, Z_train, X_test_scaled, y_test, Z_test\n"
   ]
  },
  {
   "cell_type": "code",
   "execution_count": 10,
   "metadata": {},
   "outputs": [],
   "source": [
    "X_train_scaled, y_train, Z_train, X_test_scaled, y_test, Z_test = prepare_train_data(df_sub, law)"
   ]
  },
  {
   "cell_type": "code",
   "execution_count": 11,
   "metadata": {},
   "outputs": [],
   "source": [
    "bart_eval = BARTCause()"
   ]
  },
  {
   "cell_type": "code",
   "execution_count": 12,
   "metadata": {},
   "outputs": [],
   "source": [
    "bart_eval.fit(X_train_scaled, y_train, Z_train, n_samples=1000,  n_burn=200,  n_chains=10)"
   ]
  },
  {
   "cell_type": "code",
   "execution_count": 13,
   "metadata": {},
   "outputs": [],
   "source": [
    "def rmse(y, y_pred):\n",
    "    rmse = np.sqrt((np.sum((y - y_pred) ** 2) / y.shape[0]))\n",
    "    return rmse"
   ]
  },
  {
   "cell_type": "code",
   "execution_count": 14,
   "metadata": {},
   "outputs": [],
   "source": [
    "def nrmse(y, y_pred, norm_method):\n",
    "    rmse = np.sqrt((np.sum((y - y_pred) ** 2) / y.shape[0]))\n",
    "    if norm_method=='mean':\n",
    "        nrmse = rmse / y.mean()\n",
    "    elif norm_method=='range':\n",
    "        nrmse = rmse / (y.max() - y.min())\n",
    "    else:\n",
    "        nrmse = rmse\n",
    "    return nrmse"
   ]
  },
  {
   "cell_type": "code",
   "execution_count": 15,
   "metadata": {},
   "outputs": [],
   "source": [
    "# evaluate BART fit on response surface\n",
    "newData = np.concatenate((X_test_scaled, Z_test), axis=1)\n",
    "\n",
    "y_test_predicted_ = bart_eval.predict(newData, infer_type=\"mu\")\n",
    "y_test_predicted = y_test_predicted_[:,np.newaxis]"
   ]
  },
  {
   "cell_type": "code",
   "execution_count": 16,
   "metadata": {},
   "outputs": [
    {
     "name": "stdout",
     "output_type": "stream",
     "text": [
      "BART RMS: 13.803622664100988 \n",
      " Baseline RMS: 15.062015062739574\n"
     ]
    }
   ],
   "source": [
    "print(\"BART RMS:\", rmse(y_test,y_test_predicted),\"\\n\", \"Baseline RMS:\", rmse(y_test,y_test.mean()))"
   ]
  },
  {
   "cell_type": "code",
   "execution_count": 17,
   "metadata": {},
   "outputs": [],
   "source": [
    "def r_square(y, y_pred):\n",
    "    # residual sum of squares\n",
    "    ss_res = np.sum((y - y_pred) ** 2)\n",
    "\n",
    "    # total sum of squares\n",
    "    ss_tot = np.sum((y - np.mean(y)) ** 2)\n",
    "\n",
    "    # r-squared\n",
    "    r2 = 1 - (ss_res / ss_tot)\n",
    "    return r2"
   ]
  },
  {
   "cell_type": "code",
   "execution_count": 18,
   "metadata": {},
   "outputs": [
    {
     "data": {
      "text/plain": [
       "0.16011465645999967"
      ]
     },
     "execution_count": 18,
     "metadata": {},
     "output_type": "execute_result"
    }
   ],
   "source": [
    "# evaluate BART fit on response surface\n",
    "newData = np.concatenate((X_test_scaled, Z_test), axis=1)\n",
    "\n",
    "y_test_predicted_ = bart_eval.predict(newData, infer_type=\"mu\")\n",
    "y_test_predicted = y_test_predicted_[:,np.newaxis]\n",
    "\n",
    "r_square(y_test,y_test_predicted)"
   ]
  },
  {
   "cell_type": "markdown",
   "metadata": {},
   "source": [
    "#### K-fold Cross Validation"
   ]
  },
  {
   "cell_type": "code",
   "execution_count": 19,
   "metadata": {},
   "outputs": [],
   "source": [
    "def kfold_indices(data, k):\n",
    "\n",
    "    fold_size = len(data) // k\n",
    "    indices = np.arange(len(data))\n",
    "    folds = []\n",
    "    for i in range(k):\n",
    "        test_indices = indices[i * fold_size: (i + 1) * fold_size]\n",
    "        train_indices = np.concatenate([indices[:i * fold_size], indices[(i + 1) * fold_size:]])\n",
    "        folds.append((train_indices, test_indices))\n",
    "    return folds"
   ]
  },
  {
   "cell_type": "code",
   "execution_count": 20,
   "metadata": {},
   "outputs": [],
   "source": [
    "fold_indices = kfold_indices(df_sub, 5)"
   ]
  },
  {
   "cell_type": "code",
   "execution_count": 21,
   "metadata": {},
   "outputs": [],
   "source": [
    "def cross_validation_test(df, law, fold_indices):\n",
    "    bartCause = BARTCause()\n",
    "    \n",
    "    X_df = df.iloc[:, :27].to_numpy()\n",
    "    M = X_df.shape[1] \n",
    "\n",
    "    y = df[['delta_death_rate']].to_numpy()\n",
    "    Z_law = df[[law]].to_numpy()\n",
    "    # numerical columns\n",
    "    num_cols = [c for c in range(M) if len(np.unique(X_df[:, c])) > 2] \n",
    "\n",
    "    scores = []\n",
    "\n",
    "    for fold, (train_indices, test_indices) in enumerate(fold_indices):\n",
    "        print(\"fold:\",fold)\n",
    "        X_train, y_train, Z_train = X_df[train_indices,:], y[train_indices,:], Z_law[train_indices,:]\n",
    "        X_test, y_test, Z_test = X_df[test_indices,:], y[test_indices,:], Z_law[test_indices,:]\n",
    "\n",
    "        # standardize data\n",
    "        scaler_ = preprocessing.StandardScaler().fit(X_train[:,num_cols])\n",
    "        X_train_scaled = np.copy(X_train)\n",
    "        X_train_scaled[:,num_cols] = scaler_.transform(X_train[:,num_cols])\n",
    "\n",
    "        X_test_scaled = np.copy(X_test)\n",
    "        X_test_scaled[:,num_cols] = scaler_.transform(X_test[:,num_cols])\n",
    "        \n",
    "        # Train the model on the training data\n",
    "        bartCause.fit(X_train_scaled, y_train, Z_train, n_samples=1000,  n_burn=200,  n_chains=10)\n",
    "\n",
    "        # Make predictions on the test data\n",
    "        test_data = np.concatenate((X_test_scaled, Z_test), axis=1)\n",
    "        y_test_pred_ = bartCause.predict(test_data, infer_type=\"mu\")\n",
    "        y_test_pred = y_test_pred_[:,np.newaxis]\n",
    "        \n",
    "        # Calculate the accuracy score for this fold\n",
    "        fold_score = nrmse(y_test, y_test_pred, 'range')\n",
    "        \n",
    "        # Append the fold score to the list of scores\n",
    "        scores.append(fold_score)\n",
    "\n",
    "    # Calculate the mean accuracy across all folds\n",
    "    mean_score = np.mean(scores)\n",
    "\n",
    "    return scores, mean_score"
   ]
  },
  {
   "cell_type": "code",
   "execution_count": 22,
   "metadata": {},
   "outputs": [
    {
     "name": "stdout",
     "output_type": "stream",
     "text": [
      "fold: 0\n",
      "fold: 1\n",
      "fold: 2\n",
      "fold: 3\n",
      "fold: 4\n",
      "K-Fold Cross-Validation Scores: [0.34296096486971134, 0.4407772921288203, 0.1876490868141114, 0.24671734607737827, 0.2958474785551608]\n",
      "Mean Score: 0.30279043368903646\n"
     ]
    }
   ],
   "source": [
    "scores, mean_score = cross_validation_test(df_sub, law, fold_indices)\n",
    "print(\"K-Fold Cross-Validation Scores:\", scores)\n",
    "print(\"Mean Score:\", mean_score)"
   ]
  },
  {
   "cell_type": "markdown",
   "metadata": {},
   "source": [
    "#### Permutation Test"
   ]
  },
  {
   "cell_type": "code",
   "execution_count": 23,
   "metadata": {},
   "outputs": [],
   "source": [
    "# construct train test data \n",
    "def prepare_permute_data(df, law):\n",
    "\n",
    "    X_df = df.iloc[:, :27].to_numpy()\n",
    "    M = X_df.shape[1] \n",
    "\n",
    "    y = df[['delta_death_rate']].to_numpy()\n",
    "    Z_law = df[[law]].to_numpy()\n",
    "    # numerical columns\n",
    "    num_cols = [c for c in range(M) if len(np.unique(X_df[:, c])) > 2] \n",
    "\n",
    "\n",
    "    # standardize data\n",
    "    scaler_ = preprocessing.StandardScaler().fit(X_df[:,num_cols])\n",
    "    X_scaled = np.copy(X_df)\n",
    "    X_scaled[:,num_cols] = scaler_.transform(X_df[:,num_cols])\n",
    "\n",
    "    return X_scaled, y, Z_law\n"
   ]
  },
  {
   "cell_type": "code",
   "execution_count": 24,
   "metadata": {},
   "outputs": [],
   "source": [
    "bartCause = BARTCause()\n",
    "X_scaled, y, Z_law = prepare_permute_data(df_sub, law)"
   ]
  },
  {
   "cell_type": "code",
   "execution_count": 25,
   "metadata": {},
   "outputs": [],
   "source": [
    "bartCause.fit(X_scaled, y, Z_law, n_samples=1000,  n_burn=200,  n_chains=10)"
   ]
  },
  {
   "cell_type": "code",
   "execution_count": 26,
   "metadata": {},
   "outputs": [],
   "source": [
    "# evaluate BART fit on response surface\n",
    "newData = np.concatenate((X_scaled, Z_law), axis=1)\n",
    "\n",
    "predicted_Z1 = bartCause.predict(newData, infer_type=\"mu.1\")\n",
    "predicted_Z0 = bartCause.predict(newData, infer_type=\"mu.0\")\n",
    "# predicted_Z1 = predicted_Z1_[:,np.newaxis]\n",
    "# predicted_Z0 = predicted_Z0_[:,np.newaxis]\n",
    "mean_law0 = predicted_Z0.mean()\n",
    "mean_law1 = predicted_Z1.mean()"
   ]
  },
  {
   "cell_type": "code",
   "execution_count": 27,
   "metadata": {},
   "outputs": [],
   "source": [
    "# prepare for permutation test\n",
    "def statistic(x, y):\n",
    "    return np.mean(x) - np.mean(y)"
   ]
  },
  {
   "cell_type": "markdown",
   "metadata": {},
   "source": [
    "#### Permutation test"
   ]
  },
  {
   "cell_type": "code",
   "execution_count": 30,
   "metadata": {},
   "outputs": [
    {
     "data": {
      "text/plain": [
       "PermutationTestResult(statistic=-2.2029899004849582, pvalue=0.0713, null_distribution=array([-1.44639229,  1.85898482,  1.58817888, ..., -2.1311085 ,\n",
       "       -1.21413939,  0.73343724]))"
      ]
     },
     "execution_count": 30,
     "metadata": {},
     "output_type": "execute_result"
    }
   ],
   "source": [
    "res_permute = permutation_test((predicted_Z0, predicted_Z1), statistic, alternative='less')\n",
    "res_permute"
   ]
  },
  {
   "cell_type": "markdown",
   "metadata": {},
   "source": [
    "#### Paired Samples t-Test (Dependent Samples t-Test)"
   ]
  },
  {
   "cell_type": "code",
   "execution_count": 31,
   "metadata": {},
   "outputs": [
    {
     "data": {
      "text/plain": [
       "TtestResult(statistic=-45.4404390822418, pvalue=3.5299964204844855e-75, df=114)"
      ]
     },
     "execution_count": 31,
     "metadata": {},
     "output_type": "execute_result"
    }
   ],
   "source": [
    "res_ttest = stats.ttest_rel(predicted_Z0, predicted_Z1, alternative='less')\n",
    "res_ttest"
   ]
  },
  {
   "cell_type": "markdown",
   "metadata": {},
   "source": [
    "#### Mann-Whitney U Test / Wilcoxon Rank-Sum Test (No normal distribution assumption)"
   ]
  },
  {
   "cell_type": "code",
   "execution_count": 32,
   "metadata": {},
   "outputs": [
    {
     "data": {
      "text/plain": [
       "MannwhitneyuResult(statistic=5752.0, pvalue=0.04414816644975827)"
      ]
     },
     "execution_count": 32,
     "metadata": {},
     "output_type": "execute_result"
    }
   ],
   "source": [
    "res_mannwhitneyu = stats.mannwhitneyu(predicted_Z0, predicted_Z1, alternative='less')\n",
    "res_mannwhitneyu"
   ]
  },
  {
   "cell_type": "code",
   "execution_count": 33,
   "metadata": {},
   "outputs": [
    {
     "data": {
      "image/png": "[encoded data removed]",
      "text/plain": [
       "<Figure size 1000x600 with 1 Axes>"
      ]
     },
     "metadata": {},
     "output_type": "display_data"
    }
   ],
   "source": [
    "\n",
    "plt.figure(figsize=(10, 6))\n",
    "plt.hist(predicted_Z0, bins=30, alpha=0.5, label='Law Inactive')\n",
    "plt.hist(predicted_Z1, bins=30, alpha=0.5, label='Law Active')\n",
    "\n",
    "plt.axvline(mean_law0, color='blue', linestyle='dashed', linewidth=1)\n",
    "plt.text(mean_law0 + 2, plt.ylim()[1] * 0.6, f'Inactive Mean: {mean_law0:.3f}', color='darkblue')\n",
    "plt.axvline(mean_law1, color='red', linestyle='dashed', linewidth=1)\n",
    "plt.text(mean_law1 + 2, plt.ylim()[1] * 0.4, f'Active Mean: {mean_law1:.3f}', color='red')\n",
    "\n",
    "plt.text(plt.xlim()[1]*0.6, plt.ylim()[1] * 0.45, f'mann-whitney P-value : {res_mannwhitneyu.pvalue:.4f}', color='black')\n",
    "plt.text(plt.xlim()[1]*0.6, plt.ylim()[1] * 0.5, f'permutation P-value: {res_permute.pvalue:.4f}', color='black')\n",
    "plt.text(plt.xlim()[1]*0.6, plt.ylim()[1] * 0.55, f'paired t P-value: {res_ttest.pvalue:.4f}', color='black')\n",
    "\n",
    "\n",
    "plt.xlabel('Death rate differential(2017 - 2013)')\n",
    "plt.ylabel('Frequency')\n",
    "plt.title('Death rate differential grouped by '+ law+'(law)')\n",
    "plt.legend()\n",
    "# plt.savefig(\"res/law_\"+law+\".png\")\n",
    "plt.show()"
   ]
  }
 ],
 "metadata": {
  "kernelspec": {
   "display_name": "legal",
   "language": "python",
   "name": "python3"
  },
  "language_info": {
   "codemirror_mode": {
    "name": "ipython",
    "version": 3
   },
   "file_extension": ".py",
   "mimetype": "text/x-python",
   "name": "python",
   "nbconvert_exporter": "python",
   "pygments_lexer": "ipython3",
   "version": "3.8.19"
  }
 },
 "nbformat": 4,
 "nbformat_minor": 2
}
