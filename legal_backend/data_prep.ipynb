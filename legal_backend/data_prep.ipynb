{
 "cells": [
  {
   "cell_type": "code",
   "execution_count": 1,
   "metadata": {},
   "outputs": [],
   "source": [
    "import pandas as pd"
   ]
  },
  {
   "cell_type": "code",
   "execution_count": 2,
   "metadata": {},
   "outputs": [],
   "source": [
    "df = pd.read_csv('./origin_data/2013-2016_Final_Data.csv')"
   ]
  },
  {
   "cell_type": "code",
   "execution_count": 3,
   "metadata": {},
   "outputs": [
    {
     "name": "stdout",
     "output_type": "stream",
     "text": [
      "<class 'pandas.core.frame.DataFrame'>\n",
      "RangeIndex: 3144 entries, 0 to 3143\n",
      "Data columns (total 64 columns):\n",
      " #   Column                                                                                 Non-Null Count  Dtype  \n",
      "---  ------                                                                                 --------------  -----  \n",
      " 0   FIPS                                                                                   3144 non-null   int64  \n",
      " 1   Percent-of-Population-Under-15-(2013-2017)                                             3140 non-null   float64\n",
      " 2   Percent-of-Population-Aged-15-to-64-(2013-2017)                                        3140 non-null   float64\n",
      " 3   Percent-of-Population-65+-(2013-2017)                                                  3140 non-null   float64\n",
      " 4   Percent-of-Population-White-(non-Hispanic)-(2013-2017)                                 3140 non-null   float64\n",
      " 5   Percent-of-Populaiton-Black-(non-Hispanic)-(2013-2017)                                 3140 non-null   float64\n",
      " 6   Percent-of-Population-Hispanic-or-Latino-(2013-2017)                                   3140 non-null   float64\n",
      " 7   Percent-of-Population-Asian-(non-Hispanic)-(2013-2017)                                 3140 non-null   float64\n",
      " 8   Percent-of-Population-Native-American/Alaska-Native-(non-Hispanic)-(2013-2017)         3140 non-null   float64\n",
      " 9   Percent-of-Population-Native-Hawaiian/Pacific-Islander-(2013-2017)                     3140 non-null   float64\n",
      " 10  Percent-of-Population-Aged-25+-who-Have-at-Least-a-High-School-Diploma-(2013-2017)     3140 non-null   float64\n",
      " 11  Percent-of-Population-Aged-25+-who-Have-a-Bachelor's-Degree-or-More-(2013-2017)        3140 non-null   float64\n",
      " 12  Poverty-Rate-(2013-2017)                                                               3140 non-null   float64\n",
      " 13  Median-Household-Income-(2013-2017)                                                    3140 non-null   float64\n",
      " 14  Unemployment-Rate-(2013-2017)                                                          3140 non-null   float64\n",
      " 15  Percent-of-Residents-with-a-Disability-(Aged-18-64)-(2013-2017)                        3140 non-null   float64\n",
      " 16  %-of-households-with-broadband-internet-connection-(2013-2017)                         820 non-null    float64\n",
      " 17  Percent-of-Popualtion-Employed-in-Mining-and-Natural-Resources-(2013-2017)             3143 non-null   float64\n",
      " 18  Percent-of-Popualtion-Employed-in-Construction-(2013-2017)                             3143 non-null   float64\n",
      " 19  Percent-of-Popualtion-Employed-in-Trade-Transportation-and-Utilities-(2013-2017)       3143 non-null   float64\n",
      " 20  Number-of-Substance-Use-Facilities-(As-of-March-2023)                                  3141 non-null   float64\n",
      " 21  Number-of-Mental-Health-Facilities-(As-of-March-2023)                                  3141 non-null   float64\n",
      " 22  MDsPerCapita                                                                           3138 non-null   float64\n",
      " 23  Urbanicity                                                                             3144 non-null   object \n",
      " 24  Social-Resilience-Score                                                                3141 non-null   float64\n",
      " 25  Economic-Risk-Score                                                                    3141 non-null   float64\n",
      " 26  Social-Risk-Score                                                                      3141 non-null   float64\n",
      " 27  Economic-Resilience-Score                                                              3141 non-null   float64\n",
      " 28  Prosperity-Index-Score                                                                 3141 non-null   float64\n",
      " 29  death-rate-2013-2016                                                                   3140 non-null   float64\n",
      " 30  county_name                                                                            3142 non-null   object \n",
      " 31  state_name                                                                             3142 non-null   object \n",
      " 32  death-rate                                                                             3140 non-null   float64\n",
      " 33  m_enforce                                                                              3142 non-null   float64\n",
      " 34  ad_providers_Physicians                                                                3142 non-null   float64\n",
      " 35  m_providers_Physicians                                                                 3142 non-null   float64\n",
      " 36  PDMP_any                                                                               3142 non-null   float64\n",
      " 37  PDMP_strestOnly if other state has PDMP laws consistent with or similar to this state  3142 non-null   float64\n",
      " 38  m_disc_specifics_Risks of the use of the drug                                          3142 non-null   float64\n",
      " 39  mmps-cann_THC                                                                          3142 non-null   float64\n",
      " 40  mmps-cpa_Independent third parties                                                     3142 non-null   float64\n",
      " 41  PDMP_regkindPhysician prescribers                                                      3142 non-null   float64\n",
      " 42  PDMP_Medicaid                                                                          3142 non-null   float64\n",
      " 43  m_write                                                                                3142 non-null   float64\n",
      " 44  PDMP_regawhen_Prior to accessing the PDMP                                              3142 non-null   float64\n",
      " 45  PDMP_proactNo action specified in the law                                              3142 non-null   float64\n",
      " 46  PDMP_regkindPhysician assistants                                                       3142 non-null   float64\n",
      " 47  ad_disc_specifics_Risks of the use of the drug                                         3142 non-null   float64\n",
      " 48  PDMP_regkind_Optometrists                                                              3142 non-null   float64\n",
      " 49  PDMP_agency_Professional licensing authority                                           3142 non-null   float64\n",
      " 50  PDMP_strest_Must have bilateral memorandum of understanding or data sharing agreement  3142 non-null   float64\n",
      " 51  mmps-label_Product potency                                                             3142 non-null   float64\n",
      " 52  PDMP_leowhenActive investigations                                                      3142 non-null   float64\n",
      " 53  PDMP_regkindNurse Practitioners                                                        3142 non-null   float64\n",
      " 54  diff_std                                                                               3142 non-null   float64\n",
      " 55  m_law                                                                                  3142 non-null   float64\n",
      " 56  PDMP_regkind_Pharmacists                                                               3142 non-null   float64\n",
      " 57  PDMP_drepschSchedule V                                                                 3142 non-null   float64\n",
      " 58  PDMP_regkind_Podiatrists                                                               3142 non-null   float64\n",
      " 59  ad_write                                                                               3142 non-null   float64\n",
      " 60  adult_law                                                                              3142 non-null   float64\n",
      " 61  PDMP_regkind_Dentists                                                                  3142 non-null   float64\n",
      " 62  PDMP_mimm                                                                              3142 non-null   float64\n",
      " 63  PDMP_agencyDepartment of Health                                                        3142 non-null   float64\n",
      "dtypes: float64(60), int64(1), object(3)\n",
      "memory usage: 1.5+ MB\n"
     ]
    }
   ],
   "source": [
    "df.info()"
   ]
  },
  {
   "cell_type": "code",
   "execution_count": 5,
   "metadata": {},
   "outputs": [
    {
     "data": {
      "text/plain": [
       "0       -0.895509\n",
       "1       21.770410\n",
       "2        9.328918\n",
       "3       18.037349\n",
       "4      -25.060492\n",
       "          ...    \n",
       "3139    10.033675\n",
       "3140     7.917039\n",
       "3141   -18.526175\n",
       "3142    14.670752\n",
       "3143     1.148799\n",
       "Name: death-rate, Length: 3144, dtype: float64"
      ]
     },
     "execution_count": 5,
     "metadata": {},
     "output_type": "execute_result"
    }
   ],
   "source": [
    "df['death-rate']"
   ]
  },
  {
   "cell_type": "code",
   "execution_count": 9,
   "metadata": {},
   "outputs": [],
   "source": [
    "fips_cols = list(df.columns)\n",
    "fips_cols.remove('%-of-households-with-broadband-internet-connection-(2013-2017)')"
   ]
  },
  {
   "cell_type": "code",
   "execution_count": 26,
   "metadata": {},
   "outputs": [
    {
     "name": "stdout",
     "output_type": "stream",
     "text": [
      "27\n"
     ]
    }
   ],
   "source": [
    "feat_cols_ = list(df.columns)\n",
    "delta_idx = feat_cols_.index('death-rate')\n",
    "feat_cols = feat_cols_[:(delta_idx+1)]\n",
    "tmp_cols = ['%-of-households-with-broadband-internet-connection-(2013-2017)', 'county_name', 'state_name', 'FIPS', 'death-rate-2013-2016', 'death-rate']\n",
    "for col in tmp_cols:\n",
    "    feat_cols.remove(col)\n",
    "\n",
    "print(len(feat_cols))"
   ]
  },
  {
   "cell_type": "code",
   "execution_count": 28,
   "metadata": {},
   "outputs": [
    {
     "data": {
      "text/plain": [
       "['FIPS',\n",
       " 'state_name',\n",
       " 'county_name',\n",
       " 'Percent-of-Population-Under-15-(2013-2017)',\n",
       " 'Percent-of-Population-Aged-15-to-64-(2013-2017)',\n",
       " 'Percent-of-Population-65+-(2013-2017)',\n",
       " 'Percent-of-Population-White-(non-Hispanic)-(2013-2017)',\n",
       " 'Percent-of-Populaiton-Black-(non-Hispanic)-(2013-2017)',\n",
       " 'Percent-of-Population-Hispanic-or-Latino-(2013-2017)',\n",
       " 'Percent-of-Population-Asian-(non-Hispanic)-(2013-2017)',\n",
       " 'Percent-of-Population-Native-American/Alaska-Native-(non-Hispanic)-(2013-2017)',\n",
       " 'Percent-of-Population-Native-Hawaiian/Pacific-Islander-(2013-2017)',\n",
       " 'Percent-of-Population-Aged-25+-who-Have-at-Least-a-High-School-Diploma-(2013-2017)',\n",
       " \"Percent-of-Population-Aged-25+-who-Have-a-Bachelor's-Degree-or-More-(2013-2017)\",\n",
       " 'Poverty-Rate-(2013-2017)',\n",
       " 'Median-Household-Income-(2013-2017)',\n",
       " 'Unemployment-Rate-(2013-2017)',\n",
       " 'Percent-of-Residents-with-a-Disability-(Aged-18-64)-(2013-2017)',\n",
       " 'Percent-of-Popualtion-Employed-in-Mining-and-Natural-Resources-(2013-2017)',\n",
       " 'Percent-of-Popualtion-Employed-in-Construction-(2013-2017)',\n",
       " 'Percent-of-Popualtion-Employed-in-Trade-Transportation-and-Utilities-(2013-2017)',\n",
       " 'Number-of-Substance-Use-Facilities-(As-of-March-2023)',\n",
       " 'Number-of-Mental-Health-Facilities-(As-of-March-2023)',\n",
       " 'MDsPerCapita',\n",
       " 'Urbanicity',\n",
       " 'Social-Resilience-Score',\n",
       " 'Economic-Risk-Score',\n",
       " 'Social-Risk-Score',\n",
       " 'Economic-Resilience-Score',\n",
       " 'Prosperity-Index-Score',\n",
       " 'death-rate-2013-2016',\n",
       " 'death-rate']"
      ]
     },
     "execution_count": 28,
     "metadata": {},
     "output_type": "execute_result"
    }
   ],
   "source": [
    "data_cols = ['FIPS', 'state_name', 'county_name'] + feat_cols + ['death-rate-2013-2016', 'death-rate']"
   ]
  },
  {
   "cell_type": "code",
   "execution_count": 42,
   "metadata": {},
   "outputs": [],
   "source": [
    "df_truncated = df[data_cols]"
   ]
  },
  {
   "cell_type": "code",
   "execution_count": 43,
   "metadata": {},
   "outputs": [
    {
     "data": {
      "text/plain": [
       "['fips',\n",
       " 'state_name',\n",
       " 'county_name',\n",
       " 'percent_of_population_under_15_(2013_2017)',\n",
       " 'percent_of_population_aged_15_to_64_(2013_2017)',\n",
       " 'percent_of_population_65plus_(2013_2017)',\n",
       " 'percent_of_population_white_(non_hispanic)_(2013_2017)',\n",
       " 'percent_of_populaiton_black_(non_hispanic)_(2013_2017)',\n",
       " 'percent_of_population_hispanic_or_latino_(2013_2017)',\n",
       " 'percent_of_population_asian_(non_hispanic)_(2013_2017)',\n",
       " 'percent_of_population_native_american_alaska_native_(non_hispanic)_(2013_2017)',\n",
       " 'percent_of_population_native_hawaiian_pacific_islander_(2013_2017)',\n",
       " 'percent_of_population_aged_25plus_who_have_at_least_a_high_school_diploma_(2013_2017)',\n",
       " \"percent_of_population_aged_25plus_who_have_a_bachelor's_degree_or_more_(2013_2017)\",\n",
       " 'poverty_rate_(2013_2017)',\n",
       " 'median_household_income_(2013_2017)',\n",
       " 'unemployment_rate_(2013_2017)',\n",
       " 'percent_of_residents_with_a_disability_(aged_18_64)_(2013_2017)',\n",
       " 'percent_of_popualtion_employed_in_mining_and_natural_resources_(2013_2017)',\n",
       " 'percent_of_popualtion_employed_in_construction_(2013_2017)',\n",
       " 'percent_of_popualtion_employed_in_trade_transportation_and_utilities_(2013_2017)',\n",
       " 'number_of_substance_use_facilities_(as_of_march_2023)',\n",
       " 'number_of_mental_health_facilities_(as_of_march_2023)',\n",
       " 'mdspercapita',\n",
       " 'urbanicity',\n",
       " 'social_resilience_score',\n",
       " 'economic_risk_score',\n",
       " 'social_risk_score',\n",
       " 'economic_resilience_score',\n",
       " 'prosperity_index_score',\n",
       " 'death_rate_2013_2016',\n",
       " 'death_rate']"
      ]
     },
     "execution_count": 43,
     "metadata": {},
     "output_type": "execute_result"
    }
   ],
   "source": [
    "data_cols_renamed = []\n",
    "for col in data_cols:\n",
    "    col = col.lower()\n",
    "    col = col.replace('+','plus')\n",
    "    col = col.replace('-','_')\n",
    "    col = col.replace('/','_')\n",
    "    data_cols_renamed.append(col)\n",
    "data_cols_renamed"
   ]
  },
  {
   "cell_type": "code",
   "execution_count": 44,
   "metadata": {},
   "outputs": [],
   "source": [
    "df_truncated.columns = data_cols_renamed"
   ]
  },
  {
   "cell_type": "code",
   "execution_count": 45,
   "metadata": {},
   "outputs": [],
   "source": [
    "df_truncated = df_truncated.dropna(ignore_index=True)"
   ]
  },
  {
   "cell_type": "code",
   "execution_count": 54,
   "metadata": {},
   "outputs": [],
   "source": [
    "df_truncated['urbanicity'] = df_truncated['urbanicity'].map({'Urban':1., 'Rural':0.})"
   ]
  },
  {
   "cell_type": "code",
   "execution_count": 55,
   "metadata": {},
   "outputs": [
    {
     "name": "stdout",
     "output_type": "stream",
     "text": [
      "<class 'pandas.core.frame.DataFrame'>\n",
      "RangeIndex: 3137 entries, 0 to 3136\n",
      "Data columns (total 32 columns):\n",
      " #   Column                                                                                 Non-Null Count  Dtype  \n",
      "---  ------                                                                                 --------------  -----  \n",
      " 0   fips                                                                                   3137 non-null   int64  \n",
      " 1   state_name                                                                             3137 non-null   object \n",
      " 2   county_name                                                                            3137 non-null   object \n",
      " 3   percent_of_population_under_15_(2013_2017)                                             3137 non-null   float64\n",
      " 4   percent_of_population_aged_15_to_64_(2013_2017)                                        3137 non-null   float64\n",
      " 5   percent_of_population_65plus_(2013_2017)                                               3137 non-null   float64\n",
      " 6   percent_of_population_white_(non_hispanic)_(2013_2017)                                 3137 non-null   float64\n",
      " 7   percent_of_populaiton_black_(non_hispanic)_(2013_2017)                                 3137 non-null   float64\n",
      " 8   percent_of_population_hispanic_or_latino_(2013_2017)                                   3137 non-null   float64\n",
      " 9   percent_of_population_asian_(non_hispanic)_(2013_2017)                                 3137 non-null   float64\n",
      " 10  percent_of_population_native_american_alaska_native_(non_hispanic)_(2013_2017)         3137 non-null   float64\n",
      " 11  percent_of_population_native_hawaiian_pacific_islander_(2013_2017)                     3137 non-null   float64\n",
      " 12  percent_of_population_aged_25plus_who_have_at_least_a_high_school_diploma_(2013_2017)  3137 non-null   float64\n",
      " 13  percent_of_population_aged_25plus_who_have_a_bachelor's_degree_or_more_(2013_2017)     3137 non-null   float64\n",
      " 14  poverty_rate_(2013_2017)                                                               3137 non-null   float64\n",
      " 15  median_household_income_(2013_2017)                                                    3137 non-null   float64\n",
      " 16  unemployment_rate_(2013_2017)                                                          3137 non-null   float64\n",
      " 17  percent_of_residents_with_a_disability_(aged_18_64)_(2013_2017)                        3137 non-null   float64\n",
      " 18  percent_of_popualtion_employed_in_mining_and_natural_resources_(2013_2017)             3137 non-null   float64\n",
      " 19  percent_of_popualtion_employed_in_construction_(2013_2017)                             3137 non-null   float64\n",
      " 20  percent_of_popualtion_employed_in_trade_transportation_and_utilities_(2013_2017)       3137 non-null   float64\n",
      " 21  number_of_substance_use_facilities_(as_of_march_2023)                                  3137 non-null   float64\n",
      " 22  number_of_mental_health_facilities_(as_of_march_2023)                                  3137 non-null   float64\n",
      " 23  mdspercapita                                                                           3137 non-null   float64\n",
      " 24  urbanicity                                                                             3137 non-null   float64\n",
      " 25  social_resilience_score                                                                3137 non-null   float64\n",
      " 26  economic_risk_score                                                                    3137 non-null   float64\n",
      " 27  social_risk_score                                                                      3137 non-null   float64\n",
      " 28  economic_resilience_score                                                              3137 non-null   float64\n",
      " 29  prosperity_index_score                                                                 3137 non-null   float64\n",
      " 30  death_rate_2013_2016                                                                   3137 non-null   float64\n",
      " 31  death_rate                                                                             3137 non-null   float64\n",
      "dtypes: float64(29), int64(1), object(2)\n",
      "memory usage: 784.4+ KB\n"
     ]
    }
   ],
   "source": [
    "df_truncated.info()"
   ]
  },
  {
   "cell_type": "code",
   "execution_count": 65,
   "metadata": {},
   "outputs": [
    {
     "data": {
      "text/plain": [
       "['m_enforce',\n",
       " 'ad_providers_Physicians',\n",
       " 'm_providers_Physicians',\n",
       " 'PDMP_any',\n",
       " 'PDMP_strestOnly if other state has PDMP laws consistent with or similar to this state',\n",
       " 'm_disc_specifics_Risks of the use of the drug',\n",
       " 'mmps-cann_THC',\n",
       " 'mmps-cpa_Independent third parties',\n",
       " 'PDMP_regkindPhysician prescribers',\n",
       " 'PDMP_Medicaid',\n",
       " 'm_write',\n",
       " 'PDMP_regawhen_Prior to accessing the PDMP',\n",
       " 'PDMP_proactNo action specified in the law',\n",
       " 'PDMP_regkindPhysician assistants',\n",
       " 'ad_disc_specifics_Risks of the use of the drug',\n",
       " 'PDMP_regkind_Optometrists',\n",
       " 'PDMP_agency_Professional licensing authority',\n",
       " 'PDMP_strest_Must have bilateral memorandum of understanding or data sharing agreement',\n",
       " 'mmps-label_Product potency',\n",
       " 'PDMP_leowhenActive investigations',\n",
       " 'PDMP_regkindNurse Practitioners',\n",
       " 'diff_std',\n",
       " 'm_law',\n",
       " 'PDMP_regkind_Pharmacists',\n",
       " 'PDMP_drepschSchedule V',\n",
       " 'PDMP_regkind_Podiatrists',\n",
       " 'ad_write',\n",
       " 'adult_law',\n",
       " 'PDMP_regkind_Dentists',\n",
       " 'PDMP_mimm',\n",
       " 'PDMP_agencyDepartment of Health ']"
      ]
     },
     "execution_count": 65,
     "metadata": {},
     "output_type": "execute_result"
    }
   ],
   "source": [
    "all_cols = list(df.columns)\n",
    "delta_idx = all_cols.index('death-rate')\n",
    "laws = all_cols[(delta_idx+1):]\n",
    "laws"
   ]
  },
  {
   "cell_type": "code",
   "execution_count": 67,
   "metadata": {},
   "outputs": [
    {
     "name": "stdout",
     "output_type": "stream",
     "text": [
      "<class 'pandas.core.frame.DataFrame'>\n",
      "RangeIndex: 3142 entries, 0 to 3141\n",
      "Data columns (total 32 columns):\n",
      " #   Column                                                                                 Non-Null Count  Dtype  \n",
      "---  ------                                                                                 --------------  -----  \n",
      " 0   fips                                                                                   3142 non-null   int64  \n",
      " 1   m_enforce                                                                              3142 non-null   float64\n",
      " 2   ad_providers_Physicians                                                                3142 non-null   float64\n",
      " 3   m_providers_Physicians                                                                 3142 non-null   float64\n",
      " 4   PDMP_any                                                                               3142 non-null   float64\n",
      " 5   PDMP_strestOnly if other state has PDMP laws consistent with or similar to this state  3142 non-null   float64\n",
      " 6   m_disc_specifics_Risks of the use of the drug                                          3142 non-null   float64\n",
      " 7   mmps-cann_THC                                                                          3142 non-null   float64\n",
      " 8   mmps-cpa_Independent third parties                                                     3142 non-null   float64\n",
      " 9   PDMP_regkindPhysician prescribers                                                      3142 non-null   float64\n",
      " 10  PDMP_Medicaid                                                                          3142 non-null   float64\n",
      " 11  m_write                                                                                3142 non-null   float64\n",
      " 12  PDMP_regawhen_Prior to accessing the PDMP                                              3142 non-null   float64\n",
      " 13  PDMP_proactNo action specified in the law                                              3142 non-null   float64\n",
      " 14  PDMP_regkindPhysician assistants                                                       3142 non-null   float64\n",
      " 15  ad_disc_specifics_Risks of the use of the drug                                         3142 non-null   float64\n",
      " 16  PDMP_regkind_Optometrists                                                              3142 non-null   float64\n",
      " 17  PDMP_agency_Professional licensing authority                                           3142 non-null   float64\n",
      " 18  PDMP_strest_Must have bilateral memorandum of understanding or data sharing agreement  3142 non-null   float64\n",
      " 19  mmps-label_Product potency                                                             3142 non-null   float64\n",
      " 20  PDMP_leowhenActive investigations                                                      3142 non-null   float64\n",
      " 21  PDMP_regkindNurse Practitioners                                                        3142 non-null   float64\n",
      " 22  diff_std                                                                               3142 non-null   float64\n",
      " 23  m_law                                                                                  3142 non-null   float64\n",
      " 24  PDMP_regkind_Pharmacists                                                               3142 non-null   float64\n",
      " 25  PDMP_drepschSchedule V                                                                 3142 non-null   float64\n",
      " 26  PDMP_regkind_Podiatrists                                                               3142 non-null   float64\n",
      " 27  ad_write                                                                               3142 non-null   float64\n",
      " 28  adult_law                                                                              3142 non-null   float64\n",
      " 29  PDMP_regkind_Dentists                                                                  3142 non-null   float64\n",
      " 30  PDMP_mimm                                                                              3142 non-null   float64\n",
      " 31  PDMP_agencyDepartment of Health                                                        3142 non-null   float64\n",
      "dtypes: float64(31), int64(1)\n",
      "memory usage: 785.6 KB\n"
     ]
    }
   ],
   "source": [
    "law_cols = ['FIPS']+laws\n",
    "law_df = df[law_cols]\n",
    "law_df  = law_df.rename(columns={'FIPS':'fips'})\n",
    "law_df = law_df.dropna(ignore_index=True)\n",
    "law_df.info()"
   ]
  },
  {
   "cell_type": "code",
   "execution_count": 68,
   "metadata": {},
   "outputs": [],
   "source": [
    "law_df.to_csv('laws.csv', index=False)\n",
    "df_truncated.to_csv('opioid2013.csv',index=False)"
   ]
  }
 ],
 "metadata": {
  "kernelspec": {
   "display_name": "legal",
   "language": "python",
   "name": "python3"
  },
  "language_info": {
   "codemirror_mode": {
    "name": "ipython",
    "version": 3
   },
   "file_extension": ".py",
   "mimetype": "text/x-python",
   "name": "python",
   "nbconvert_exporter": "python",
   "pygments_lexer": "ipython3",
   "version": "3.8.19"
  }
 },
 "nbformat": 4,
 "nbformat_minor": 2
}
