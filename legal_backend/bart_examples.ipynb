{
 "cells": [
  {
   "cell_type": "code",
   "execution_count": 1,
   "metadata": {},
   "outputs": [],
   "source": [
    "from legal_backend.r_to_py.r_to_py import init_R\n",
    "from legal_backend.bartCause.bart_cause import BARTCause\n",
    "import pandas as pd\n",
    "import numpy as np\n",
    "\n",
    "from sklearn.model_selection import train_test_split\n",
    "from sklearn import preprocessing\n",
    "from scipy.stats import permutation_test\n",
    "from sklearn.metrics import accuracy_score\n",
    "\n",
    "from matplotlib import pyplot as plt"
   ]
  },
  {
   "cell_type": "code",
   "execution_count": 2,
   "metadata": {},
   "outputs": [],
   "source": [
    "init_R()"
   ]
  },
  {
   "cell_type": "markdown",
   "metadata": {},
   "source": [
    "### Infer Law Effect"
   ]
  },
  {
   "cell_type": "code",
   "execution_count": 3,
   "metadata": {},
   "outputs": [],
   "source": [
    "#load csv files and load possible laws\n",
    "laws_df = pd.read_csv('laws.csv')\n",
    "opi_df = pd.read_csv('opioid2013.csv')\n",
    "\n",
    "law_names = list(laws_df.columns)[1:]"
   ]
  },
  {
   "cell_type": "code",
   "execution_count": 4,
   "metadata": {},
   "outputs": [
    {
     "name": "stdout",
     "output_type": "stream",
     "text": [
      "adult_law\n"
     ]
    }
   ],
   "source": [
    "# pick a law of interest\n",
    "law = law_names[27]\n",
    "print(law)"
   ]
  },
  {
   "cell_type": "code",
   "execution_count": 5,
   "metadata": {},
   "outputs": [
    {
     "data": {
      "text/html": [
       "<div>\n",
       "<style scoped>\n",
       "    .dataframe tbody tr th:only-of-type {\n",
       "        vertical-align: middle;\n",
       "    }\n",
       "\n",
       "    .dataframe tbody tr th {\n",
       "        vertical-align: top;\n",
       "    }\n",
       "\n",
       "    .dataframe thead th {\n",
       "        text-align: right;\n",
       "    }\n",
       "</style>\n",
       "<table border=\"1\" class=\"dataframe\">\n",
       "  <thead>\n",
       "    <tr style=\"text-align: right;\">\n",
       "      <th></th>\n",
       "      <th>percent_of_population_under_15_(2013_2017)</th>\n",
       "      <th>percent_of_population_aged_15_to_64_(2013_2017)</th>\n",
       "      <th>percent_of_population_65plus_(2013_2017)</th>\n",
       "      <th>percent_of_population_white_(non_hispanic)_(2013_2017)</th>\n",
       "      <th>percent_of_populaiton_black_(non_hispanic)_(2013_2017)</th>\n",
       "      <th>percent_of_population_hispanic_or_latino_(2013_2017)</th>\n",
       "      <th>percent_of_population_asian_(non_hispanic)_(2013_2017)</th>\n",
       "      <th>percent_of_population_native_american_alaska_native_(non_hispanic)_(2013_2017)</th>\n",
       "      <th>percent_of_population_native_hawaiian_pacific_islander_(2013_2017)</th>\n",
       "      <th>percent_of_population_aged_25plus_who_have_at_least_a_high_school_diploma_(2013_2017)</th>\n",
       "      <th>...</th>\n",
       "      <th>number_of_mental_health_facilities_(as_of_march_2023)</th>\n",
       "      <th>mdspercapita</th>\n",
       "      <th>urbanicity</th>\n",
       "      <th>social_resilience_score</th>\n",
       "      <th>economic_risk_score</th>\n",
       "      <th>social_risk_score</th>\n",
       "      <th>economic_resilience_score</th>\n",
       "      <th>prosperity_index_score</th>\n",
       "      <th>adult_law</th>\n",
       "      <th>delta_death_rate</th>\n",
       "    </tr>\n",
       "  </thead>\n",
       "  <tbody>\n",
       "    <tr>\n",
       "      <th>0</th>\n",
       "      <td>0.2040</td>\n",
       "      <td>0.6562</td>\n",
       "      <td>0.1398</td>\n",
       "      <td>0.7568</td>\n",
       "      <td>0.1837</td>\n",
       "      <td>0.0257</td>\n",
       "      <td>0.0081</td>\n",
       "      <td>0.0041</td>\n",
       "      <td>0.0001</td>\n",
       "      <td>0.8758</td>\n",
       "      <td>...</td>\n",
       "      <td>0.0</td>\n",
       "      <td>3.63</td>\n",
       "      <td>1.0</td>\n",
       "      <td>4.0</td>\n",
       "      <td>2.0</td>\n",
       "      <td>2.0</td>\n",
       "      <td>5.0</td>\n",
       "      <td>3.0</td>\n",
       "      <td>0.0</td>\n",
       "      <td>-0.895509</td>\n",
       "    </tr>\n",
       "    <tr>\n",
       "      <th>1</th>\n",
       "      <td>0.1830</td>\n",
       "      <td>0.6298</td>\n",
       "      <td>0.1871</td>\n",
       "      <td>0.8318</td>\n",
       "      <td>0.0923</td>\n",
       "      <td>0.0437</td>\n",
       "      <td>0.0066</td>\n",
       "      <td>0.0062</td>\n",
       "      <td>0.0000</td>\n",
       "      <td>0.9003</td>\n",
       "      <td>...</td>\n",
       "      <td>1.0</td>\n",
       "      <td>7.52</td>\n",
       "      <td>1.0</td>\n",
       "      <td>3.0</td>\n",
       "      <td>1.0</td>\n",
       "      <td>2.0</td>\n",
       "      <td>2.0</td>\n",
       "      <td>2.0</td>\n",
       "      <td>0.0</td>\n",
       "      <td>21.770410</td>\n",
       "    </tr>\n",
       "    <tr>\n",
       "      <th>2</th>\n",
       "      <td>0.1794</td>\n",
       "      <td>0.6553</td>\n",
       "      <td>0.1653</td>\n",
       "      <td>0.4589</td>\n",
       "      <td>0.4789</td>\n",
       "      <td>0.0431</td>\n",
       "      <td>0.0044</td>\n",
       "      <td>0.0017</td>\n",
       "      <td>0.0000</td>\n",
       "      <td>0.7376</td>\n",
       "      <td>...</td>\n",
       "      <td>1.0</td>\n",
       "      <td>0.00</td>\n",
       "      <td>0.0</td>\n",
       "      <td>5.0</td>\n",
       "      <td>5.0</td>\n",
       "      <td>3.0</td>\n",
       "      <td>4.0</td>\n",
       "      <td>5.0</td>\n",
       "      <td>0.0</td>\n",
       "      <td>9.328918</td>\n",
       "    </tr>\n",
       "    <tr>\n",
       "      <th>3</th>\n",
       "      <td>0.1702</td>\n",
       "      <td>0.6809</td>\n",
       "      <td>0.1489</td>\n",
       "      <td>0.7477</td>\n",
       "      <td>0.2121</td>\n",
       "      <td>0.0222</td>\n",
       "      <td>0.0006</td>\n",
       "      <td>0.0036</td>\n",
       "      <td>0.0000</td>\n",
       "      <td>0.8070</td>\n",
       "      <td>...</td>\n",
       "      <td>0.0</td>\n",
       "      <td>8.86</td>\n",
       "      <td>1.0</td>\n",
       "      <td>4.0</td>\n",
       "      <td>4.0</td>\n",
       "      <td>4.0</td>\n",
       "      <td>3.0</td>\n",
       "      <td>4.0</td>\n",
       "      <td>0.0</td>\n",
       "      <td>18.037349</td>\n",
       "    </tr>\n",
       "    <tr>\n",
       "      <th>4</th>\n",
       "      <td>0.1942</td>\n",
       "      <td>0.6339</td>\n",
       "      <td>0.1719</td>\n",
       "      <td>0.8766</td>\n",
       "      <td>0.0156</td>\n",
       "      <td>0.0873</td>\n",
       "      <td>0.0016</td>\n",
       "      <td>0.0030</td>\n",
       "      <td>0.0000</td>\n",
       "      <td>0.8003</td>\n",
       "      <td>...</td>\n",
       "      <td>1.0</td>\n",
       "      <td>0.00</td>\n",
       "      <td>1.0</td>\n",
       "      <td>5.0</td>\n",
       "      <td>2.0</td>\n",
       "      <td>3.0</td>\n",
       "      <td>5.0</td>\n",
       "      <td>4.0</td>\n",
       "      <td>0.0</td>\n",
       "      <td>-25.060492</td>\n",
       "    </tr>\n",
       "  </tbody>\n",
       "</table>\n",
       "<p>5 rows × 29 columns</p>\n",
       "</div>"
      ],
      "text/plain": [
       "   percent_of_population_under_15_(2013_2017)  \\\n",
       "0                                      0.2040   \n",
       "1                                      0.1830   \n",
       "2                                      0.1794   \n",
       "3                                      0.1702   \n",
       "4                                      0.1942   \n",
       "\n",
       "   percent_of_population_aged_15_to_64_(2013_2017)  \\\n",
       "0                                           0.6562   \n",
       "1                                           0.6298   \n",
       "2                                           0.6553   \n",
       "3                                           0.6809   \n",
       "4                                           0.6339   \n",
       "\n",
       "   percent_of_population_65plus_(2013_2017)  \\\n",
       "0                                    0.1398   \n",
       "1                                    0.1871   \n",
       "2                                    0.1653   \n",
       "3                                    0.1489   \n",
       "4                                    0.1719   \n",
       "\n",
       "   percent_of_population_white_(non_hispanic)_(2013_2017)  \\\n",
       "0                                             0.7568        \n",
       "1                                             0.8318        \n",
       "2                                             0.4589        \n",
       "3                                             0.7477        \n",
       "4                                             0.8766        \n",
       "\n",
       "   percent_of_populaiton_black_(non_hispanic)_(2013_2017)  \\\n",
       "0                                             0.1837        \n",
       "1                                             0.0923        \n",
       "2                                             0.4789        \n",
       "3                                             0.2121        \n",
       "4                                             0.0156        \n",
       "\n",
       "   percent_of_population_hispanic_or_latino_(2013_2017)  \\\n",
       "0                                             0.0257      \n",
       "1                                             0.0437      \n",
       "2                                             0.0431      \n",
       "3                                             0.0222      \n",
       "4                                             0.0873      \n",
       "\n",
       "   percent_of_population_asian_(non_hispanic)_(2013_2017)  \\\n",
       "0                                             0.0081        \n",
       "1                                             0.0066        \n",
       "2                                             0.0044        \n",
       "3                                             0.0006        \n",
       "4                                             0.0016        \n",
       "\n",
       "   percent_of_population_native_american_alaska_native_(non_hispanic)_(2013_2017)  \\\n",
       "0                                             0.0041                                \n",
       "1                                             0.0062                                \n",
       "2                                             0.0017                                \n",
       "3                                             0.0036                                \n",
       "4                                             0.0030                                \n",
       "\n",
       "   percent_of_population_native_hawaiian_pacific_islander_(2013_2017)  \\\n",
       "0                                             0.0001                    \n",
       "1                                             0.0000                    \n",
       "2                                             0.0000                    \n",
       "3                                             0.0000                    \n",
       "4                                             0.0000                    \n",
       "\n",
       "   percent_of_population_aged_25plus_who_have_at_least_a_high_school_diploma_(2013_2017)  \\\n",
       "0                                             0.8758                                       \n",
       "1                                             0.9003                                       \n",
       "2                                             0.7376                                       \n",
       "3                                             0.8070                                       \n",
       "4                                             0.8003                                       \n",
       "\n",
       "   ...  number_of_mental_health_facilities_(as_of_march_2023)  mdspercapita  \\\n",
       "0  ...                                                0.0              3.63   \n",
       "1  ...                                                1.0              7.52   \n",
       "2  ...                                                1.0              0.00   \n",
       "3  ...                                                0.0              8.86   \n",
       "4  ...                                                1.0              0.00   \n",
       "\n",
       "   urbanicity  social_resilience_score  economic_risk_score  \\\n",
       "0         1.0                      4.0                  2.0   \n",
       "1         1.0                      3.0                  1.0   \n",
       "2         0.0                      5.0                  5.0   \n",
       "3         1.0                      4.0                  4.0   \n",
       "4         1.0                      5.0                  2.0   \n",
       "\n",
       "   social_risk_score  economic_resilience_score  prosperity_index_score  \\\n",
       "0                2.0                        5.0                     3.0   \n",
       "1                2.0                        2.0                     2.0   \n",
       "2                3.0                        4.0                     5.0   \n",
       "3                4.0                        3.0                     4.0   \n",
       "4                3.0                        5.0                     4.0   \n",
       "\n",
       "   adult_law  delta_death_rate  \n",
       "0        0.0         -0.895509  \n",
       "1        0.0         21.770410  \n",
       "2        0.0          9.328918  \n",
       "3        0.0         18.037349  \n",
       "4        0.0        -25.060492  \n",
       "\n",
       "[5 rows x 29 columns]"
      ]
     },
     "execution_count": 5,
     "metadata": {},
     "output_type": "execute_result"
    }
   ],
   "source": [
    "# prepare a BART oriented dataframe \n",
    "merged_df = opi_df.merge(laws_df[['fips',law]], on=['fips'])\n",
    "df_ = merged_df.drop(columns=['fips', 'state_name', 'county_name', 'death_rate_2013_2016'])\n",
    "df_ = df_.rename(columns={'death_rate':'delta_death_rate'})\n",
    "feat_cols = list(df_.columns)[:-2]\n",
    "law = list(df_.columns)[-1]\n",
    "delta_death = 'delta_death_rate'\n",
    "\n",
    "new_cols = feat_cols + [law] + [delta_death]\n",
    "df= df_[new_cols]\n",
    "df.head()"
   ]
  },
  {
   "cell_type": "code",
   "execution_count": 6,
   "metadata": {},
   "outputs": [],
   "source": [
    "X_df = df.iloc[:, :27].to_numpy()\n",
    "M = X_df.shape[1]  \n",
    "# numerical columns\n",
    "num_cols = [c for c in range(M) if len(np.unique(X_df[:, c])) > 2] \n",
    "\n",
    "\n",
    "\n",
    "# standardize data\n",
    "scaler = preprocessing.StandardScaler().fit(X_df[:,num_cols])\n",
    "X_scaled = np.copy(X_df)\n",
    "X_scaled[:,num_cols] = scaler.transform(X_df[:,num_cols])\n",
    "\n",
    "y = df[['delta_death_rate']].to_numpy()\n",
    "Z_law = df[[law]].to_numpy()"
   ]
  },
  {
   "cell_type": "code",
   "execution_count": 7,
   "metadata": {},
   "outputs": [],
   "source": [
    "bartCause = BARTCause()"
   ]
  },
  {
   "cell_type": "code",
   "execution_count": 8,
   "metadata": {},
   "outputs": [],
   "source": [
    "bartCause.fit(X_scaled, y, Z_law)"
   ]
  },
  {
   "cell_type": "code",
   "execution_count": 9,
   "metadata": {},
   "outputs": [],
   "source": [
    "ite = bartCause.fitted()"
   ]
  },
  {
   "cell_type": "code",
   "execution_count": 10,
   "metadata": {},
   "outputs": [],
   "source": [
    "law0_idxs = list(df[df_[law]==0].index)\n",
    "law1_idxs = list(df[df_[law]==1].index)"
   ]
  },
  {
   "cell_type": "code",
   "execution_count": 11,
   "metadata": {},
   "outputs": [],
   "source": [
    "mean_law0 = ite[law0_idxs].mean()\n",
    "mean_law1 = ite[law1_idxs].mean()"
   ]
  },
  {
   "cell_type": "code",
   "execution_count": 12,
   "metadata": {},
   "outputs": [],
   "source": [
    "# prepare for permutation test\n",
    "def statistic(x, y):\n",
    "    return np.mean(x) - np.mean(y)"
   ]
  },
  {
   "cell_type": "code",
   "execution_count": 13,
   "metadata": {},
   "outputs": [],
   "source": [
    "res = permutation_test((ite[law0_idxs], ite[law1_idxs]), statistic, alternative='less')"
   ]
  },
  {
   "cell_type": "code",
   "execution_count": 14,
   "metadata": {},
   "outputs": [
    {
     "data": {
      "image/png": "[encoded data removed]",
      "text/plain": [
       "<Figure size 1000x600 with 1 Axes>"
      ]
     },
     "metadata": {},
     "output_type": "display_data"
    }
   ],
   "source": [
    "\n",
    "plt.figure(figsize=(10, 6))\n",
    "plt.hist(ite[law0_idxs], bins=30, alpha=0.5, label='law inactive')\n",
    "plt.hist(ite[law1_idxs], bins=30, alpha=0.5, label='law active')\n",
    "\n",
    "plt.axvline(mean_law0, color='green', linestyle='dashed', linewidth=1)\n",
    "plt.text(mean_law0 + 5, plt.ylim()[1] * 0.6, f'Inactive Mean: {mean_law0:.3f}', color='darkblue')\n",
    "plt.axvline(mean_law1, color='red', linestyle='dashed', linewidth=1)\n",
    "plt.text(mean_law1 + 5, plt.ylim()[1] * 0.4, f'Active Mean: {mean_law1:.3f}', color='red')\n",
    "\n",
    "plt.text(plt.xlim()[1]*0.7, plt.ylim()[1] * 0.5, f'P-value: {res.pvalue:.3f}', color='black')\n",
    "\n",
    "\n",
    "plt.xlabel('death rate differential(2017 - 2013)')\n",
    "plt.ylabel('Frequency')\n",
    "plt.title('ITEs grouped by '+ law+'(law)')\n",
    "plt.legend()\n",
    "# plt.savefig(\"res/law_\"+law+\"_ite_grouped.png\")\n",
    "plt.show()"
   ]
  },
  {
   "cell_type": "code",
   "execution_count": 15,
   "metadata": {},
   "outputs": [
    {
     "data": {
      "image/png": "[encoded data removed]",
      "text/plain": [
       "<Figure size 640x480 with 1 Axes>"
      ]
     },
     "metadata": {},
     "output_type": "display_data"
    }
   ],
   "source": [
    "ite_mean = ite.mean()\n",
    "plt.hist(ite)\n",
    "plt.axvline(ite_mean, color='red', linestyle='dashed', linewidth=1)\n",
    "plt.text(ite_mean + 5, plt.ylim()[1] / 2, f'ITE Mean: {ite_mean:.3f}', color='red')\n",
    "plt.xlabel('Overall ITE')\n",
    "plt.ylabel('Frequency')\n",
    "plt.title(\" ITE of \"+ law + \"(law)\")\n",
    "# plt.savefig(\"res/law_\"+law+\"_ite.png\")\n",
    "plt.show()"
   ]
  },
  {
   "cell_type": "markdown",
   "metadata": {},
   "source": [
    "### Evaluate BART performance"
   ]
  },
  {
   "cell_type": "code",
   "execution_count": 16,
   "metadata": {},
   "outputs": [],
   "source": [
    "# construct train test data \n",
    "train_idxs, test_idxs = train_test_split(list(df.index), test_size=0.3, random_state=99)\n",
    "\n",
    "\n",
    "X_df = df.iloc[:, :27].to_numpy()\n",
    "M = X_df.shape[1] \n",
    "\n",
    "y = df[['delta_death_rate']].to_numpy()\n",
    "Z_law = df[[law]].to_numpy()\n",
    "# numerical columns\n",
    "num_cols = [c for c in range(M) if len(np.unique(X_df[:, c])) > 2] \n",
    "\n",
    "\n",
    "X_train = X_df[train_idxs,:]\n",
    "X_test = X_df[test_idxs,:]\n",
    "\n",
    "y_train = y[train_idxs,:]\n",
    "y_test= y[test_idxs,:]\n",
    "\n",
    "Z_train = Z_law[train_idxs,:]\n",
    "Z_test= Z_law[test_idxs,:]\n",
    "\n",
    "# standardize data\n",
    "scaler_ = preprocessing.StandardScaler().fit(X_train[:,num_cols])\n",
    "X_train_scaled = np.copy(X_train)\n",
    "X_train_scaled[:,num_cols] = scaler_.transform(X_train[:,num_cols])\n",
    "\n",
    "X_test_scaled = np.copy(X_test)\n",
    "X_test_scaled[:,num_cols] = scaler_.transform(X_test[:,num_cols])\n"
   ]
  },
  {
   "cell_type": "code",
   "execution_count": 17,
   "metadata": {},
   "outputs": [],
   "source": [
    "bart_eval = BARTCause()"
   ]
  },
  {
   "cell_type": "code",
   "execution_count": 18,
   "metadata": {},
   "outputs": [],
   "source": [
    "bart_eval.fit(X_train_scaled, y_train, Z_train)"
   ]
  },
  {
   "cell_type": "code",
   "execution_count": 19,
   "metadata": {},
   "outputs": [
    {
     "data": {
      "text/plain": [
       "0.6634819532908705"
      ]
     },
     "execution_count": 19,
     "metadata": {},
     "output_type": "execute_result"
    }
   ],
   "source": [
    "# evaluate treatment assignment accuracy\n",
    "propensity_score_test = bart_eval.predict(X_test_scaled, infer_type=\"p.score\")\n",
    "treat_assign_predicted = np.where(propensity_score_test>0.5, 1, 0)\n",
    "\n",
    "Z_test_predicted = treat_assign_predicted[:,np.newaxis]\n",
    "\n",
    "# accuracy for treatment assignment\n",
    "accuracy_score(Z_test_predicted, Z_test)"
   ]
  },
  {
   "cell_type": "code",
   "execution_count": 20,
   "metadata": {},
   "outputs": [],
   "source": [
    "def r_square(y, y_pred):\n",
    "    # residual sum of squares\n",
    "    ss_res = np.sum((y - y_pred) ** 2)\n",
    "\n",
    "    # total sum of squares\n",
    "    ss_tot = np.sum((y - np.mean(y)) ** 2)\n",
    "\n",
    "    # r-squared\n",
    "    r2 = 1 - (ss_res / ss_tot)\n",
    "    return r2"
   ]
  },
  {
   "cell_type": "code",
   "execution_count": 21,
   "metadata": {},
   "outputs": [
    {
     "data": {
      "text/plain": [
       "0.09132420219802528"
      ]
     },
     "execution_count": 21,
     "metadata": {},
     "output_type": "execute_result"
    }
   ],
   "source": [
    "# evaluate BART fit on response surface\n",
    "newData = np.concatenate((X_test_scaled, Z_test), axis=1)\n",
    "\n",
    "y_test_predicted_ = bart_eval.predict(newData, infer_type=\"mu\")\n",
    "y_test_predicted = y_test_predicted_[:,np.newaxis]\n",
    "\n",
    "r_square(y_test,y_test_predicted)"
   ]
  }
 ],
 "metadata": {
  "kernelspec": {
   "display_name": "legal",
   "language": "python",
   "name": "python3"
  },
  "language_info": {
   "codemirror_mode": {
    "name": "ipython",
    "version": 3
   },
   "file_extension": ".py",
   "mimetype": "text/x-python",
   "name": "python",
   "nbconvert_exporter": "python",
   "pygments_lexer": "ipython3",
   "version": "3.8.19"
  }
 },
 "nbformat": 4,
 "nbformat_minor": 2
}
